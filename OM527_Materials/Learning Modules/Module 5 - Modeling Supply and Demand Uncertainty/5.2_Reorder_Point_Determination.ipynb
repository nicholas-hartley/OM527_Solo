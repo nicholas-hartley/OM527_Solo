{
 "cells": [
  {
   "cell_type": "markdown",
   "metadata": {},
   "source": [
    "# 5.2 - Empircal Reorder Point Determination\n",
    "Prepared by: Nickolas Freeman, PhD\n",
    "\n",
    "In this notebook we will consider the problem of determining reorder points for a set of purchased products that are subject to demand and lead time uncertainty. This is a common problem in inventory management that is faced by companies in a wide range of industries. Due to its practical relevance, this problem has been extensively studied. However, most research focuses on determining the structure of the optimal ordering policy, not necessarily providing results that are easily implemeted by practitioners. We will use monte carlo simulation techniques to simulate product demands during the replenishment lead time. The simulation will provide a vector of observations, each of which represents a potential scenario for demand during the lead time. We will then identify percentiles of the scenarios for demand during the lead time that correspond to user-selected service levels in order to determine the inventory position (on-hand + in-transit) level that should be used to trigger reorders.\n",
    "\n",
    "The following code block imports the libraries we will use."
   ]
  },
  {
   "cell_type": "code",
   "execution_count": null,
   "metadata": {},
   "outputs": [],
   "source": [
    "import datetime\n",
    "import pathlib\n",
    "\n",
    "import matplotlib.pyplot as plt\n",
    "import numpy as np\n",
    "import pandas as pd\n",
    "import seaborn as sns\n",
    "sns.set_style('whitegrid')\n",
    "\n",
    "import OM527_functions as omf"
   ]
  },
  {
   "cell_type": "markdown",
   "metadata": {},
   "source": [
    "The following code block imports two data files that we will use and store them in Pandas `DataFrame` objects. The `lt_data` object includes order and delivery dates for the various products. The `demand_data` object includes daily sales for the products."
   ]
  },
  {
   "cell_type": "code",
   "execution_count": null,
   "metadata": {},
   "outputs": [],
   "source": [
    "lt_datapath = pathlib.Path('data', 'LT_data.csv')\n",
    "lt_data = pd.read_csv(lt_datapath)\n",
    "\n",
    "demand_datapath = pathlib.Path('data', 'demand_data.csv')\n",
    "demand_data = pd.read_csv(demand_datapath)"
   ]
  },
  {
   "cell_type": "markdown",
   "metadata": {},
   "source": [
    "The `lt_data` object includes information on the order and delivery dates for 100 products. The number of observations varies by product. The following code block prints the first five rows."
   ]
  },
  {
   "cell_type": "code",
   "execution_count": null,
   "metadata": {},
   "outputs": [],
   "source": [
    "lt_data.head()"
   ]
  },
  {
   "cell_type": "markdown",
   "metadata": {},
   "source": [
    "The `demand_data` object includes information on the sales of the 100 products over the last 1,170 days. The following code block prints the first five rows."
   ]
  },
  {
   "cell_type": "code",
   "execution_count": null,
   "metadata": {},
   "outputs": [],
   "source": [
    "demand_data.head()"
   ]
  },
  {
   "cell_type": "markdown",
   "metadata": {},
   "source": [
    "The following code block uses a for loop to define a grid of subplots that demonstrates the variety of distributions for the underlying product demands."
   ]
  },
  {
   "cell_type": "code",
   "execution_count": null,
   "metadata": {},
   "outputs": [],
   "source": [
    "products_to_plot = [['6VGPBC', 'ULFV3M'],\n",
    "                    ['TFH5XF','2VWXHB']]\n",
    "\n",
    "fig, ax = plt.subplots(len(products_to_plot), \n",
    "                       len(products_to_plot[0]),\n",
    "                       figsize = (14,8))\n",
    "\n",
    "for row in range(len(products_to_plot)):\n",
    "    for column in range(len(products_to_plot[0])):\n",
    "        current_product = products_to_plot[row][column]\n",
    "    \n",
    "        ax[row,column].hist(demand_data[current_product].values, \n",
    "                            edgecolor = 'k',\n",
    "                            bins = 8,\n",
    "                            density = True)\n",
    "        ax[row,column].set_title(f'{current_product} Demand')\n",
    "        ax[row,column].set_xlabel(f'Value')\n",
    "        ax[row,column].set_ylabel(f'Relative Frequency')\n",
    "        \n",
    "plt.subplots_adjust(hspace = 0.3)\n",
    "plt.show()"
   ]
  },
  {
   "cell_type": "markdown",
   "metadata": {},
   "source": [
    "The first thing that we need to do is convert the dates given in the `lt_data` object to `datetime` objects, and use the converted data to calculate the lead time observations. The following code block performs this conversion."
   ]
  },
  {
   "cell_type": "code",
   "execution_count": null,
   "metadata": {},
   "outputs": [],
   "source": [
    "lt_data['Order_Date'] = pd.to_datetime(lt_data['Order_Date'])\n",
    "lt_data['Delivery_Date'] = pd.to_datetime(lt_data['Delivery_Date'])\n",
    "lt_data['Lead_Time'] = (lt_data['Delivery_Date'] - lt_data['Order_Date']).dt.total_seconds()/(24*60*60)\n",
    "lt_data.head()"
   ]
  },
  {
   "cell_type": "markdown",
   "metadata": {},
   "source": [
    "Since both the replenishment lead time and demand are uncertain, we will need to fit distributions so that we can generate random samples for these two variables. The following code uses the kernel density estimation techniques available in the `distribution_fitting` module to fit a distribution for the lead time of a user-specified product."
   ]
  },
  {
   "cell_type": "code",
   "execution_count": null,
   "metadata": {},
   "outputs": [],
   "source": [
    "current_product = 'TQO7U9'\n",
    "sample_size = 100\n",
    "\n",
    "mask = lt_data['Product'] == current_product\n",
    "lt_data_sample = lt_data.loc[mask, 'Lead_Time'].values\n",
    "lt_best_params = omf.distfit.fit_best_kde(lt_data_sample)\n",
    "pdf = omf.distfit.pdf_from_kde(lt_data_sample, \n",
    "                            bandwidth = lt_best_params['bandwidth'], \n",
    "                            kernel = lt_best_params['kernel'])\n",
    "lt_random_sample = omf.distfit.trunc_kde_sample(pdf['x'], pdf['y'], sample_size = sample_size)\n",
    "\n",
    "fig, ax = plt.subplots(figsize = (8,4))\n",
    "ax.hist(lt_random_sample, density = True, edgecolor = 'k')\n",
    "ax.set_xlabel('Lead Time')\n",
    "ax.set_ylabel('Relative Frequency')\n",
    "plt.show()"
   ]
  },
  {
   "cell_type": "markdown",
   "metadata": {},
   "source": [
    "The following code block specifes the code needed to fit a distribution for the product specified in the previous cell and generate a sample for the demand that for each day of a specified lead time. Summing up the demand values in the sample provides a single scenario for the demand during the replenishment lead time. "
   ]
  },
  {
   "cell_type": "code",
   "execution_count": null,
   "metadata": {},
   "outputs": [],
   "source": [
    "demand_data_sample = demand_data[current_product].values\n",
    "demand_best_params = omf.distfit.fit_best_kde(demand_data_sample, \n",
    "                                              fit_sample_size = 400)\n",
    "pdf = omf.distfit.pdf_from_kde(demand_data_sample,\n",
    "                               bandwidth = demand_best_params['bandwidth'], \n",
    "                               kernel = demand_best_params['kernel'])\n",
    "lt_val = 10\n",
    "demand_random_sample = omf.distfit.trunc_kde_sample(pdf['x'],\n",
    "                                                    pdf['y'], \n",
    "                                                    sample_size = lt_val)\n",
    "print(f'Demand during lead time is {np.array(demand_random_sample).sum()}')"
   ]
  },
  {
   "cell_type": "markdown",
   "metadata": {},
   "source": [
    "Together, the previous two code block provide a sense of how we will approach the problem of reorder point determination. Essentially, we will generate a random sample for the lead of each product. Then, for each scenario in the lead time sample, we will randomly generate a demand sample, where the length of the demand sample corresponds to the timeframe specified in the current scenario. Summing the demand values in the generated scenario provides one possible realization for demand during the lead time. Storing the demand during the lead time scenarios for all values of the lead time in the the lead time sample allows us to approximate the distribution for lead time demand. We can use this distribution to determine appropriate reorder point levels that guarantee user-specified serive levels. Pseudocode for the approach follows:\n",
    "\n",
    "```python\n",
    "1. define sample size and target service levels\n",
    "for product in products:\n",
    "    2. fit lead time distribution\n",
    "    3. fit demand distribution\n",
    "    4. generate lead time sample\n",
    "    for each scenario in lead time sample:\n",
    "        5. generate a demand sample corresponding to the number of days in the lead time sample\n",
    "        6. calculate total demand, which represents a pontential observation of lead time demand\n",
    "        7. store lead time demand observation\n",
    "    8. use current product lead time demand information to compute reorder points for target service levels\n",
    "    9. store reorder points\n",
    "10. output reorder point information\n",
    "```"
   ]
  },
  {
   "cell_type": "code",
   "execution_count": null,
   "metadata": {},
   "outputs": [],
   "source": [
    "# specify the sample size (i.e., the number of\n",
    "# lead time values to generate)\n",
    "sample_size = 1000\n",
    "\n",
    "# specify the service level values to consider\n",
    "service_levels = [95, 99]\n",
    "\n",
    "# specify a cutoff value that will limit the number of \n",
    "# products to consider\n",
    "cutoff = 3\n",
    "\n",
    "# initialize an empty dictionary to store the \n",
    "# reorder point information\n",
    "reorder_info = {}\n",
    "\n",
    "# for each product (up to the specified cutoff)\n",
    "for index, current_product in enumerate(lt_data['Product'].unique()[:cutoff]):\n",
    "    reorder_info[current_product] = {}\n",
    "    \n",
    "    # capture the time that the simulation starts for the current product\n",
    "    start = datetime.datetime.now()\n",
    "    \n",
    "    # initialize an empty list that will contain the demand\n",
    "    # during the lead time scenarios\n",
    "    demand_during_lt_list = []\n",
    "    \n",
    "    # fit the lead time distribution for the current product\n",
    "    lt_data_sample = lt_data[lt_data['Product'] == current_product]['Lead_Time'].values\n",
    "    mean_lt = lt_data_sample.mean()\n",
    "    lt_best_params = omf.distfit.fit_best_kde(lt_data_sample)\n",
    "    lt_pdf = omf.distfit.pdf_from_kde(lt_data_sample,\n",
    "                                      bandwidth = lt_best_params['bandwidth'], \n",
    "                                      kernel = lt_best_params['kernel'])\n",
    "\n",
    "    # fit the demand distribution for the current product\n",
    "    demand_data_sample = demand_data[current_product].values\n",
    "    mean_demand = demand_data_sample.mean()\n",
    "    demand_best_params = omf.distfit.fit_best_kde(demand_data_sample, fit_sample_size = 400)\n",
    "    demand_pdf = omf.distfit.pdf_from_kde(demand_data_sample,\n",
    "                                          bandwidth = demand_best_params['bandwidth'],\n",
    "                                          kernel = demand_best_params['kernel'])\n",
    "    \n",
    "    # calculate the mean demand during the lead time\n",
    "    mean_demand_during_LT = mean_demand * mean_lt\n",
    "    \n",
    "    # generate a random lead time sample\n",
    "    lt_random_sample = omf.distfit.trunc_kde_sample(lt_pdf['x'], lt_pdf['y'], sample_size = sample_size)\n",
    "    \n",
    "    # for each lead time value in the sample\n",
    "    for lt_index, lt_val in enumerate(lt_random_sample):\n",
    "        \n",
    "        # generate a demand sample where the length of the sample \n",
    "        # equals the current value of the lead time sample\n",
    "        # (rounded UP to the nearest integer)\n",
    "        demand_random_sample = omf.distfit.trunc_kde_sample(demand_pdf['x'],\n",
    "                                                            demand_pdf['y'], \n",
    "                                                            low = 0, \n",
    "                                                            seed = lt_index,\n",
    "                                                            sample_size = int(np.ceil(lt_val)))\n",
    "        \n",
    "        # sum the demand values and append result to lead\n",
    "        # time demand list\n",
    "        demand_during_lt_list.append(np.array(demand_random_sample).sum())\n",
    "        \n",
    "    # update reorder point array\n",
    "    reorder_info[current_product]['Mean LT Demand'] = mean_demand_during_LT\n",
    "    for service_level in service_levels:\n",
    "        reorder_info[current_product][f'{service_level}% SL'] = np.percentile(np.array(demand_during_lt_list), \n",
    "                                                                              service_level)\n",
    "    \n",
    "    # capture and print the elapsed simulation time for the current product\n",
    "    print(f'{current_product} complete. Total run time = {datetime.datetime.now()-start}')\n",
    "    \n",
    "pd.DataFrame.from_dict(reorder_info, orient = 'index')"
   ]
  },
  {
   "cell_type": "code",
   "execution_count": null,
   "metadata": {},
   "outputs": [],
   "source": []
  }
 ],
 "metadata": {
  "kernelspec": {
   "display_name": "Python 3 (ipykernel)",
   "language": "python",
   "name": "python3"
  },
  "language_info": {
   "codemirror_mode": {
    "name": "ipython",
    "version": 3
   },
   "file_extension": ".py",
   "mimetype": "text/x-python",
   "name": "python",
   "nbconvert_exporter": "python",
   "pygments_lexer": "ipython3",
   "version": "3.10.8"
  }
 },
 "nbformat": 4,
 "nbformat_minor": 4
}
