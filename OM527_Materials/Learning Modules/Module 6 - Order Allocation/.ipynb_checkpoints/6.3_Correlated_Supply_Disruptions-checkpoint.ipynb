{
 "cells": [
  {
   "cell_type": "markdown",
   "metadata": {},
   "source": [
    "# 6.3 - Modeling Correlated Supply Disruptions\n",
    "Prepared by: Nickolas Freeman, PhD\n",
    "\n",
    "This notebook demonstrates how to incorporate correlated supplier disruptions when limited data is available. In such cases, the fact that limited data is available may lead decision-makers to doubt the correlation estimates suggested by the data. The following code block imports some libraries that we will use."
   ]
  },
  {
   "cell_type": "code",
   "execution_count": null,
   "metadata": {},
   "outputs": [],
   "source": [
    "import pathlib\n",
    "\n",
    "from ipywidgets import interact\n",
    "import matplotlib.pyplot as plt\n",
    "import numpy as np\n",
    "import pandas as pd\n",
    "import pulp\n",
    "import seaborn as sns\n",
    "sns.set_style('whitegrid')\n",
    "\n",
    "import OM527_functions as omf"
   ]
  },
  {
   "cell_type": "markdown",
   "metadata": {},
   "source": [
    "Before looking at the sourcing models, we will consider how data can sometimes not provide a complete picture of the relationships that exist among variables. The following code block reads a files that contains 13 datasets. The first and last five rows are printed."
   ]
  },
  {
   "cell_type": "code",
   "execution_count": null,
   "metadata": {},
   "outputs": [],
   "source": [
    "dozen_datapath = pathlib.Path('data', 'Dozen.csv')\n",
    "dozen = pd.read_csv(dozen_datapath)\n",
    "dataset_names = dozen['dataset'].unique().tolist()\n",
    "dozen"
   ]
  },
  {
   "cell_type": "markdown",
   "metadata": {},
   "source": [
    "The following code block prints the mean, meadian, standard deviation, and corrleation for the x and y values associated with the datasets."
   ]
  },
  {
   "cell_type": "code",
   "execution_count": null,
   "metadata": {},
   "outputs": [],
   "source": [
    "dataset_summary = {}\n",
    "rounding_digits = 3\n",
    "for current_dataset_name in dataset_names:\n",
    "    current_dataset = dozen[dozen['dataset'] == current_dataset_name]\n",
    "    dataset_summary[current_dataset_name] = {\n",
    "        'x_mean': current_dataset['x'].mean(), \n",
    "        'y_mean': current_dataset['y'].mean(), \n",
    "        'x_median': current_dataset['x'].median(), \n",
    "        'y_median': current_dataset['y'].median(), \n",
    "        'x_std': current_dataset['x'].std(axis = 0), \n",
    "        'y_std': current_dataset['y'].std(axis = 0), \n",
    "        'correlation': current_dataset[['x', 'y']].corr().values[0][1],\n",
    "    }\n",
    "    \n",
    "pd.DataFrame().from_dict(dataset_summary, orient = 'index').round(rounding_digits)    "
   ]
  },
  {
   "cell_type": "markdown",
   "metadata": {},
   "source": [
    "The following code block generates and interactive visualization that allows us to view the datasets."
   ]
  },
  {
   "cell_type": "code",
   "execution_count": null,
   "metadata": {},
   "outputs": [],
   "source": [
    "dataset_names = dozen['dataset'].unique().tolist()\n",
    "\n",
    "@interact(current_dataset_name = dataset_names)\n",
    "\n",
    "def interactive_spend_analysis(current_dataset_name = dataset_names[0]):\n",
    "\n",
    "    current_dataset = dozen[dozen['dataset'] == current_dataset_name]\n",
    "\n",
    "    fig, ax = plt.subplots(1, 1, figsize = (8,6))\n",
    "    sns.scatterplot(x = 'x', \n",
    "                    y = 'y', \n",
    "                    data = current_dataset)\n",
    "    plt.show()"
   ]
  },
  {
   "cell_type": "markdown",
   "metadata": {},
   "source": [
    "We will consider cases where the on-time dlivery rate for suppliers are correlated. The following code block defines an optimization model that maximizes the buyer's expected profit under the assumption that demand is uncertain."
   ]
  },
  {
   "cell_type": "code",
   "execution_count": null,
   "metadata": {},
   "outputs": [],
   "source": [
    "def solve_OTD_model(cost_vector, otd_sample, demand_sample, sales_price):\n",
    "    \n",
    "    num_scenarios = len(demand_sample)\n",
    "    num_suppliers = len(cost_vector)\n",
    "    \n",
    "    prob = pulp.LpProblem(\"Newsvendor_Problem\", pulp.LpMaximize)\n",
    "\n",
    "    Order = {} \n",
    "    for supplier in range(num_suppliers):\n",
    "        Order[supplier] = pulp.LpVariable(f\"Order_from_{supplier}\", \n",
    "                                          lowBound = 0, \n",
    "                                          upBound = None, \n",
    "                                          cat = pulp.LpContinuous)\n",
    "\n",
    "    Sell = {}\n",
    "    for scenario in range(num_scenarios):\n",
    "        Sell[scenario] = pulp.LpVariable(f\"Sell_in_Scenario_{scenario}\", \n",
    "                                         lowBound = 0, \n",
    "                                         upBound = None, \n",
    "                                         cat = pulp.LpContinuous)\n",
    "\n",
    "    expected_revenue = []\n",
    "    for scenario in range(num_scenarios):\n",
    "        expected_revenue.append(sales_price*Sell[scenario])\n",
    "    expected_revenue = pulp.lpSum(expected_revenue)/num_scenarios\n",
    "\n",
    "    expected_cost = []\n",
    "    for scenario in range(num_scenarios): \n",
    "        for supplier in range(num_suppliers):\n",
    "            expected_cost.append(cost_vector[supplier]\\\n",
    "                                 *Order[supplier]\\\n",
    "                                 *otd_sample[scenario, supplier])\n",
    "    expected_cost = pulp.lpSum(expected_cost)/num_scenarios\n",
    "\n",
    "    objective_function = expected_revenue - expected_cost\n",
    "    prob += objective_function\n",
    "\n",
    "    for scenario in range(num_scenarios):\n",
    "        total_delivered = pulp.lpSum([Order[supplier]*otd_sample[scenario, supplier]\n",
    "                                      for supplier in range(num_suppliers)]) \n",
    "        prob += (Sell[scenario] <= total_delivered, f'Sell{scenario} <= Order')\n",
    "\n",
    "    for scenario in range(num_scenarios):\n",
    "        prob += (Sell[scenario] <= demand_sample[scenario], f'Sell{scenario} <= Demand{scenario}')\n",
    "        \n",
    "    prob.solve()    \n",
    "       \n",
    "    solution_dict = {}\n",
    "    for supplier in range(num_suppliers):\n",
    "        solution_dict[supplier] = Order[supplier].value()\n",
    "\n",
    "    return solution_dict"
   ]
  },
  {
   "cell_type": "markdown",
   "metadata": {},
   "source": [
    "# Single Group of Correlated Suppliers\n",
    "\n",
    "Let's first consider the case where the buyer has reason to believe that all of the available suppliers are subject to correlated disruptions. Such a case may arise if all suppliers are located in the same country, all suppliers utilize a common raw material, or all suppliers utilize common shipment modes. The following code block reads in a dataset for such a case and shows how the correlation imputed by the dataset changes as the amount of data available varies."
   ]
  },
  {
   "cell_type": "code",
   "execution_count": null,
   "metadata": {},
   "outputs": [],
   "source": [
    "single_group_sample_filepath = pathlib.Path('data', 'single_group.csv')\n",
    "single_group_sample = pd.read_csv(single_group_sample_filepath)\n",
    "cutoff_list = [10, 15, 20, 25, 50, 100, 250, 500, 1000, 5000, 10000]\n",
    "\n",
    "@interact(cutoff = cutoff_list)\n",
    "\n",
    "def interactive_spend_analysis(cutoff = cutoff_list[0]):\n",
    "\n",
    "    fig, ax = plt.subplots(1, 2, sharey = True, figsize = (16,6))\n",
    "\n",
    "    sns.heatmap(single_group_sample[:cutoff].corr().values, \n",
    "                ax = ax[0], \n",
    "                vmin=-1, \n",
    "                vmax=1, \n",
    "                linewidths=0.1,\n",
    "                linecolor='white',\n",
    "                cmap = 'coolwarm')\n",
    "    sns.heatmap(single_group_sample.corr().values, \n",
    "                ax = ax[1], \n",
    "                vmin=-1, \n",
    "                vmax=1,\n",
    "                linewidths=0.1,\n",
    "                linecolor='white',\n",
    "                cmap = 'coolwarm')\n",
    "    ax[0].set_title('Imputed Correlation', fontsize = 14)\n",
    "    ax[1].set_title('True Correlation', fontsize = 14)\n",
    "    \n",
    "    plt.show()"
   ]
  },
  {
   "cell_type": "markdown",
   "metadata": {},
   "source": [
    "The following code block calculates the on-time delivery rates for each supplier, specifies a unit cost vector for the available suppliers, and creates a list of the supplier names."
   ]
  },
  {
   "cell_type": "code",
   "execution_count": null,
   "metadata": {},
   "outputs": [],
   "source": [
    "marginals = single_group_sample.mean(axis=0).values\n",
    "cost_vector = np.array([0.74, 0.83, 0.80, 0.87, 0.76])\n",
    "supplier_names = list(single_group_sample.columns)"
   ]
  },
  {
   "cell_type": "markdown",
   "metadata": {},
   "source": [
    "The following code block plots the unit cost and on-time delivery rate for each supplier."
   ]
  },
  {
   "cell_type": "code",
   "execution_count": null,
   "metadata": {},
   "outputs": [],
   "source": [
    "fig, ax = plt.subplots(1, 1, figsize = (8,6))\n",
    "ax.scatter(x = marginals, \n",
    "           y = cost_vector,\n",
    "           alpha = 0.7,\n",
    "           edgecolor = 'k',\n",
    "           s = 100,\n",
    "          )\n",
    "ax.set_xlabel('OTD')\n",
    "ax.set_ylabel('Unit Cost')\n",
    "ax.set_xlim(min(marginals)-0.05, max(marginals)+0.05)\n",
    "ax.set_ylim(min(cost_vector)-0.05, max(cost_vector)+0.05)\n",
    "\n",
    "for (otd_val, cost_val, supplier) in zip(marginals, cost_vector, supplier_names):\n",
    "    ax.annotate(supplier, (otd_val + 0.005, cost_val + 0.005), fontsize = 12)\n",
    "\n",
    "plt.show()"
   ]
  },
  {
   "cell_type": "markdown",
   "metadata": {},
   "source": [
    "The following code block demonstrates how to determine the worst-case supply distribution for each supplier and uses it to solve the stochastic optimization problem. The dropdown box allows users to view how the solution changes as the amount of data used to fit the worst-case distribution varies."
   ]
  },
  {
   "cell_type": "code",
   "execution_count": null,
   "metadata": {},
   "outputs": [],
   "source": [
    "cutoff_list = [5, 10, 15, 20, 25, 50, 100, 1000, 5000, 10000]\n",
    "\n",
    "@interact(cutoff = cutoff_list)\n",
    "\n",
    "def interactive_spend_analysis(cutoff = cutoff_list[0]):\n",
    "    \n",
    "    np.random.seed(0)\n",
    "    sample_size = 1000\n",
    "    demand_sample = np.random.normal(loc = 1000, scale = 100, size = sample_size)\n",
    "\n",
    "    single_group_data = single_group_sample[:cutoff].copy()\n",
    "    estimated_marginals = single_group_data.mean(axis=0).values\n",
    "        \n",
    "    group_sample = np.random.rand(sample_size)\n",
    "\n",
    "    otd_sample = np.ones((sample_size, len(estimated_marginals)))\n",
    "\n",
    "    for column in range(otd_sample.shape[1]):\n",
    "        otd_sample[:, column] = (group_sample <= estimated_marginals[column]).astype(int)\n",
    "\n",
    "    solution = solve_OTD_model(cost_vector, otd_sample, demand_sample, 1.0)\n",
    "\n",
    "    suppliers = list(solution.keys())\n",
    "    orders = list(solution.values())\n",
    "\n",
    "    fig, ax = plt.subplots(1, 1, figsize = (8,6))\n",
    "    ax.scatter(x = marginals, \n",
    "               y = cost_vector, \n",
    "               alpha = 0.7,\n",
    "               edgecolor = 'k',\n",
    "               s = orders)\n",
    "    ax.set_xlabel('OTD')\n",
    "    ax.set_ylabel('Unit Cost')\n",
    "    ax.set_xlim(min(marginals)-0.05, max(marginals)+0.05)\n",
    "    ax.set_ylim(min(cost_vector)-0.05, max(cost_vector)+0.05)\n",
    "\n",
    "    for (otd_val, cost_val, supplier) in zip(marginals, cost_vector, supplier_names):\n",
    "        ax.annotate(supplier, (otd_val + 0.005, cost_val + 0.005), fontsize = 12)\n",
    "\n",
    "    plt.show()"
   ]
  },
  {
   "cell_type": "markdown",
   "metadata": {},
   "source": [
    "# Two Groups of Correlated Suppliers\n",
    "\n",
    "We will now consider the case where the buying firm believes that the available suppliers can be partitioned into groups, where the suppliers in each group are subject to correlated disruptions. The following code block reads in a dataset for such a case and shows how the correlation imputed by the dataset changes as the amount of data available varies."
   ]
  },
  {
   "cell_type": "code",
   "execution_count": null,
   "metadata": {},
   "outputs": [],
   "source": [
    "two_group_sample_filepath = pathlib.Path('data', 'two_groups.csv')\n",
    "two_group_sample = pd.read_csv(two_group_sample_filepath)\n",
    "cutoff_list = [10, 15, 20, 25, 50, 100, 250, 500, 1000, 5000, 10000]\n",
    "\n",
    "@interact(cutoff = cutoff_list)\n",
    "\n",
    "def interactive_spend_analysis(cutoff = cutoff_list[0]):\n",
    "\n",
    "    fig, ax = plt.subplots(1, 2, sharey = True, figsize = (16,6))\n",
    "\n",
    "    sns.heatmap(two_group_sample[:cutoff].corr().values, \n",
    "                ax = ax[0], \n",
    "                vmin = -1, \n",
    "                vmax = 1, \n",
    "                linewidths = 0.1,\n",
    "                linecolor = 'white',\n",
    "                cmap = 'coolwarm')\n",
    "    sns.heatmap(two_group_sample.corr().values, \n",
    "                ax = ax[1], \n",
    "                vmin = -1, \n",
    "                vmax = 1,\n",
    "                linewidths = 0.1,\n",
    "                linecolor = 'white',\n",
    "                cmap = 'coolwarm')\n",
    "    ax[0].set_title('Imputed Correlation', fontsize = 14)\n",
    "    ax[1].set_title('True Correlation', fontsize = 14)\n",
    "    \n",
    "    plt.show()"
   ]
  },
  {
   "cell_type": "markdown",
   "metadata": {},
   "source": [
    "The following code block calculates the on-time delivery rates for each supplier, specifies a unit cost vector for the available suppliers, and creates a list of the supplier names."
   ]
  },
  {
   "cell_type": "code",
   "execution_count": null,
   "metadata": {},
   "outputs": [],
   "source": [
    "marginals = two_group_sample.mean(axis=0).values\n",
    "cost_vector = np.array([0.73, 0.85, 0.77, 0.75, 0.725, 0.71])\n",
    "supplier_names = list(two_group_sample.columns)"
   ]
  },
  {
   "cell_type": "markdown",
   "metadata": {},
   "source": [
    "The following code block plots the unit cost and on-time delivery rate for each supplier."
   ]
  },
  {
   "cell_type": "code",
   "execution_count": null,
   "metadata": {},
   "outputs": [],
   "source": [
    "fig, ax = plt.subplots(1, 1, figsize = (8,6))\n",
    "ax.scatter(x = marginals, \n",
    "           y = cost_vector,\n",
    "           alpha = 0.7,\n",
    "           edgecolor = 'k',\n",
    "           s = 100,\n",
    "          )\n",
    "ax.set_xlabel('OTD')\n",
    "ax.set_ylabel('Unit Cost')\n",
    "ax.set_xlim(min(marginals)-0.05, max(marginals)+0.05)\n",
    "ax.set_ylim(min(cost_vector)-0.05, max(cost_vector)+0.05)\n",
    "\n",
    "for (otd_val, cost_val, supplier) in zip(marginals, cost_vector, supplier_names):\n",
    "    ax.annotate(supplier, (otd_val + 0.005, cost_val + 0.005), fontsize = 12)\n",
    "\n",
    "plt.show()"
   ]
  },
  {
   "cell_type": "markdown",
   "metadata": {},
   "source": [
    "The following code block demonstrates how to determine the worst-case supply distribution for the case with supplier groups and uses it to solve the stochastic optimization problem. The dropdown box allows users to view how the solution changes as the amount of data used to fit the worst-case distribution varies."
   ]
  },
  {
   "cell_type": "code",
   "execution_count": null,
   "metadata": {},
   "outputs": [],
   "source": [
    "cutoff_list = [5, 10, 15, 20, 25, 50, 100, 1000, 10000]\n",
    "\n",
    "@interact(cutoff = cutoff_list)\n",
    "\n",
    "def interactive_spend_analysis(cutoff = cutoff_list[0]):\n",
    "\n",
    "    np.random.seed(0)\n",
    "    sample_size = 1000\n",
    "    demand_sample = np.random.normal(loc = 1000, scale = 100, size = sample_size)\n",
    "    \n",
    "    two_group_data = two_group_sample[:cutoff].copy()\n",
    "    estimated_marginals = two_group_data.mean(axis=0).values\n",
    "\n",
    "    np.random.seed(0)\n",
    "    groups = [0,0,0,1,1,1]\n",
    "    group_rvs = np.random.rand(sample_size, len(set(groups)))\n",
    "\n",
    "    correlated_otd_sample = np.ones((sample_size, len(estimated_marginals)))\n",
    "    \n",
    "    for column in range(correlated_otd_sample.shape[1]):\n",
    "        correlated_otd_sample[:,column] = (group_rvs[:,groups[column]] <= estimated_marginals[column]).astype(int)\n",
    "\n",
    "    solution = solve_OTD_model(cost_vector, correlated_otd_sample, demand_sample, 1.0)\n",
    "\n",
    "    suppliers = list(solution.keys())\n",
    "    orders = list(solution.values())\n",
    "\n",
    "    fig, ax = plt.subplots(1, 1, figsize = (8,6))\n",
    "    ax.scatter(x = marginals, \n",
    "               y = cost_vector, \n",
    "               alpha = 0.7,\n",
    "               edgecolor = 'k',\n",
    "               s = orders)\n",
    "    ax.set_xlabel('OTD')\n",
    "    ax.set_ylabel('Unit Cost')\n",
    "    ax.set_xlim(min(marginals)-0.05, max(marginals)+0.05)\n",
    "    ax.set_ylim(min(cost_vector)-0.05, max(cost_vector)+0.05)\n",
    "\n",
    "    for (otd_val, cost_val, supplier) in zip(marginals, cost_vector, supplier_names):\n",
    "        ax.annotate(supplier, (otd_val + 0.005, cost_val + 0.005), fontsize = 12)\n",
    "\n",
    "    plt.show()"
   ]
  }
 ],
 "metadata": {
  "kernelspec": {
   "display_name": "Python 3 (ipykernel)",
   "language": "python",
   "name": "python3"
  },
  "language_info": {
   "codemirror_mode": {
    "name": "ipython",
    "version": 3
   },
   "file_extension": ".py",
   "mimetype": "text/x-python",
   "name": "python",
   "nbconvert_exporter": "python",
   "pygments_lexer": "ipython3",
   "version": "3.10.8"
  }
 },
 "nbformat": 4,
 "nbformat_minor": 4
}
