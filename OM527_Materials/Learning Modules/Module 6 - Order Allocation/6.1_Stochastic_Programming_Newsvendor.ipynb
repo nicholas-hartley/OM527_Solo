{
 "cells": [
  {
   "cell_type": "markdown",
   "metadata": {},
   "source": [
    "# 6.1 - Introduction to Stochastic Programming - Newsvendor Problem\n",
    "Prepared by: Nickolas Freeman, PhD\n",
    "\n",
    "This notebook demonstrates the use of kernel density estimataton and stochastic programming in the context of sourcing decisions. Specifically, it shows how the two tools may be combined to solve a *newsvendor problem* when demand follows a bimodal distribution. A description of the newsvendor problem, copied from Wikipedia on 1/3/2018, follows:\n",
    "\n",
    ">The newsvendor (or newsboy or single-periodor perishable) model is a mathematical model in operations management and applied economics used to determine optimal inventory levels. It is (typically) characterized by fixed prices and uncertain demand for a perishable product. If the inventory level is $q$, each unit of demand above $q$ is lost in potential sales. This model is also known as the Newsvendor Problem or Newsboy Problem by analogy with the situation faced by a newspaper vendor who must decide how many copies of the day's paper to stock in the face of uncertain demand and knowing that unsold copies will be worthless at the end of the day.\n",
    ">\n",
    ">The standard newsvendor profit function is $\\mathbb{E}[Profit] =\\mathbb{E}\\left[p\\min(q,D)\\right]-cq$, where $D$ is a random variable with probability distribution $F$ representing demand, each unit is sold for price $p$ and purchased for price $c$, $q$ is the number of units stocked, and $\\mathbb{E}$ is the expectation operator. The solution to the optimal stocking quantity of the newsvendor which maximizes expected profit is:\n",
    ">\n",
    "> $$q=F^{-1}\\left(\\frac{p-c}{p}\\right),$$ \n",
    "> where $F^{-1}$ denotes the inverse cumulative distribution function of $D$.\n",
    ">\n",
    ">Intuitively, this ratio, referred to as the critical fractile, balances the cost of being understocked (a lost sale worth $(p-c)$) and the total costs of being either overstocked or understocked (where the cost of being overstocked is the inventory cost, or $c$ so total cost is simply $p$).\n",
    ">\n",
    ">The critical fractile formula is known as Littlewood's rule in the yield management literature.\n",
    "\n",
    "For the purpose of demonstration, we will begin by randomly generating some demand data for a single product. The following code block imports the several libraries we will be using and sets some defaults."
   ]
  },
  {
   "cell_type": "code",
   "execution_count": null,
   "metadata": {},
   "outputs": [],
   "source": [
    "import pathlib\n",
    "\n",
    "from ipywidgets import interact\n",
    "import numpy as np\n",
    "import matplotlib.pyplot as plt\n",
    "import pandas as pd\n",
    "# Set pandas default display format for floating-point numbers\n",
    "pd.set_option('display.float_format','{:20,.2f}'.format)\n",
    "# Set the default columns to display for pandas\n",
    "pd.set_option('display.max_columns', 50)\n",
    "import pulp\n",
    "\n",
    "import OM527_functions as omf"
   ]
  },
  {
   "cell_type": "markdown",
   "metadata": {},
   "source": [
    "The following code block generates the demand data and plots it using a histogram."
   ]
  },
  {
   "cell_type": "code",
   "execution_count": null,
   "metadata": {},
   "outputs": [],
   "source": [
    "num_bins = 30\n",
    "np.random.seed(42)\n",
    "sample_size = 1000\n",
    "\n",
    "dist_A = np.random.lognormal(3, 0.50, sample_size)\n",
    "dist_B = np.random.normal(80, 10, sample_size)\n",
    "\n",
    "random_numbers = np.random.rand(sample_size)\n",
    "random_numbers > 0.7\n",
    "\n",
    "data = dist_A[random_numbers <= 0.7]\n",
    "data = np.append(data, dist_B[random_numbers > 0.7])\n",
    "np.random.shuffle(data)\n",
    "\n",
    "fig, ax = plt.subplots(1, 1, figsize=(12,5))\n",
    "ax.hist(data, bins = num_bins, label = 'Data', edgecolor = 'k', density = False)\n",
    "ax.set_xlabel(\"Value\", fontsize = 16)\n",
    "ax.set_ylabel('Frequency', fontsize = 16)\n",
    "ax.set_title('Histogram for Data', fontsize = 20)\n",
    "ax.xaxis.set_tick_params(labelsize=16)\n",
    "ax.yaxis.set_tick_params(labelsize=16)\n",
    "ax.legend(fontsize = 16,loc=1)\n",
    "plt.show()"
   ]
  },
  {
   "cell_type": "markdown",
   "metadata": {},
   "source": [
    "The following code block uses the functions available in the `pyopsmgmt` package to fit a kernel density estimat for the data and randomly generates a sample comprised of 10,000 points. This sample is stored in an object named `benchmark` because we will use this sample as a point of comparison during our discussion of stochastic programming. "
   ]
  },
  {
   "cell_type": "code",
   "execution_count": null,
   "metadata": {},
   "outputs": [],
   "source": [
    "best_params = omf.distfit.fit_best_kde(data)\n",
    "pdf = omf.distfit.pdf_from_kde(data, \n",
    "                            bandwidth = best_params['bandwidth'],\n",
    "                            kernel= best_params['kernel'])\n",
    "benchmark = omf.distfit.trunc_kde_sample(pdf['x'], \n",
    "                                      pdf['y'], \n",
    "                                      sample_size = 10000)"
   ]
  },
  {
   "cell_type": "markdown",
   "metadata": {},
   "source": [
    "The following code block plots the original data sample and our benchmark sample just to demonstrate the fit."
   ]
  },
  {
   "cell_type": "code",
   "execution_count": null,
   "metadata": {},
   "outputs": [],
   "source": [
    "num_bins = 30\n",
    "\n",
    "fig, ax = plt.subplots(1, 1, figsize=(12,5))\n",
    "ax.hist(data, \n",
    "        bins = num_bins, \n",
    "        label = 'Data', \n",
    "        alpha = 0.8, \n",
    "        edgecolor = 'k', \n",
    "        density = True)\n",
    "\n",
    "ax.hist(benchmark, \n",
    "        bins = num_bins, \n",
    "        label='Sample', \n",
    "        alpha = 0.5, \n",
    "        color = 'g', \n",
    "        edgecolor = 'k', \n",
    "        density = True)\n",
    "\n",
    "ax.set_xlabel(\"Value\", fontsize = 16)\n",
    "ax.set_ylabel('Relative Frequency', fontsize = 14)\n",
    "ax.set_title('Histogram for Data', fontsize = 14)\n",
    "ax.xaxis.set_tick_params(labelsize = 14)\n",
    "ax.yaxis.set_tick_params(labelsize = 14)\n",
    "ax.legend(fontsize = 14)\n",
    "plt.show()"
   ]
  },
  {
   "cell_type": "markdown",
   "metadata": {},
   "source": [
    "We will turn our attention to solving a newsvendor problem using the demand data. The following code block computes the critical fractile for our example case, where we assume the unit cost equals $\\$15$ and the selling price is $\\$20$."
   ]
  },
  {
   "cell_type": "code",
   "execution_count": null,
   "metadata": {},
   "outputs": [],
   "source": [
    "unit_cost = 15             # The unit cost the newsvendor pays for each unit of product\n",
    "sale_price = 20            # The price that the newsvendor sells each unit of product at\n",
    "\n",
    "Critical_Fractile = (sale_price-unit_cost) / sale_price\n",
    "print(f'The critical fractile is {Critical_Fractile}')"
   ]
  },
  {
   "cell_type": "markdown",
   "metadata": {},
   "source": [
    "The critical fractile corresponds to a percentile of the demand distribution. Thus, we need to determine the cumulative distribution function (CDF) for the demand data in order to translate the value to a specific order quantity. The next code block creates two objects that capture the CDF for the data."
   ]
  },
  {
   "cell_type": "code",
   "execution_count": null,
   "metadata": {},
   "outputs": [],
   "source": [
    "cdfx = pdf['x'].copy()\n",
    "cdfy = pdf['y'].cumsum()"
   ]
  },
  {
   "cell_type": "markdown",
   "metadata": {},
   "source": [
    "To solve the newsvendor problem using the critical fractile, we need to be able to identify the smallest demand value where the associated value of the CDF is greater than or equal to the critical fractile. The following code block shows how we can use `Numpy`'s `argmax` function to identify such a value in the previously generated CDF. "
   ]
  },
  {
   "cell_type": "code",
   "execution_count": null,
   "metadata": {},
   "outputs": [],
   "source": [
    "CF_index = np.argmax(cdfy > Critical_Fractile)\n",
    "for i in range(CF_index -2, CF_index +3, 1):\n",
    "    if (i == CF_index):\n",
    "        print('----------------------------------------------------------------------------')\n",
    "        print(f'The value in position {i}, which is {np.round(cdfx[i], 2)}, has a CDF of {np.round(cdfy[i], 3)}.')\n",
    "        print('    This is the optimal value!!!')\n",
    "        print('----------------------------------------------------------------------------')\n",
    "    else:\n",
    "        print(f'The value in position {i}, which is {np.round(cdfx[i], 2)}, has a CDF of {np.round(cdfy[i], 3)}.')"
   ]
  },
  {
   "cell_type": "markdown",
   "metadata": {},
   "source": [
    "The following code block plots the location of the optimal value along with the histogram for the benchmark sample. "
   ]
  },
  {
   "cell_type": "code",
   "execution_count": null,
   "metadata": {},
   "outputs": [],
   "source": [
    "num_bins = 30\n",
    "\n",
    "fig, ax = plt.subplots(1, 1, figsize=(12,5))\n",
    "ax.hist(benchmark, bins=num_bins, edgecolor = 'k', density=True, label= 'Benchmark')\n",
    "ax.axvline(cdfx[CF_index], label='Critical Fractile', color = 'k', linewidth=3)\n",
    "ax.xaxis.set_tick_params(labelsize=16)\n",
    "ax.yaxis.set_tick_params(labelsize=16)\n",
    "ax.legend(fontsize = 16)\n",
    "ax.set_xlabel(\"Value\",fontsize = 16)\n",
    "ax.set_ylabel(\"Relative Frequency\",fontsize = 16)\n",
    "ax.set_title(\"CDF for Sample\",fontsize=25,y=1.05)\n",
    "plt.show()"
   ]
  },
  {
   "cell_type": "markdown",
   "metadata": {},
   "source": [
    "We will now build a stochastic programming (SP) model for solving the newsvendor problem. From https://en.wikipedia.org/wiki/Stochastic_programming (accessed 3/28/2018):\n",
    "\n",
    "> In the field of mathematical optimization, stochastic programming is a framework for modeling optimization problems that involve uncertainty. Whereas deterministic optimization problems are formulated with known parameters, real world problems almost invariably include some unknown parameters. When the parameters are known only within certain bounds, one approach to tackling such problems is called robust optimization. Here the goal is to find a solution which is feasible for all such data and optimal in some sense. **Stochastic programming models** are similar in style but **take advantage of the fact that probability distributions governing the data are known or can be estimated. The goal here is to find some policy that is feasible for all (or almost all) the possible data instances and maximizes the expectation of some function of the decisions and the random variables.** More generally, such models are formulated, solved analytically or numerically, and analyzed in order to provide useful information to a decision-maker.\n",
    "\n",
    "Specifically, we will use the following mathematical model.\n",
    "\n",
    "<u>Sets</u><br>\n",
    "$\\Omega$ - set of scenarios<br>\n",
    "\n",
    "<u>Indices</u><br>\n",
    "$\\omega$ - scenario index, $\\omega \\in \\Omega$,<br>\n",
    "\n",
    "<u>Parameters</u><br>\n",
    "$p$  - unit sales price,<br>\n",
    "$c$ - unit cost,<br>\n",
    "$d_{\\omega}$ - demand in scenario $\\omega$,<br>\n",
    "\n",
    "<u>Decision Variables</u><br>\n",
    "$Q$ - order quantity,<br>\n",
    "$S_{\\omega}$ - amount sold in scenario $\\omega$,<br>\n",
    "\n",
    "\n",
    "$$\\displaystyle Maximize \\left(\\sum_{\\omega \\in \\Omega}pS_{\\omega}\\bigg/|\\Omega|\\right) - cQ$$\n",
    "$$\\displaystyle Subject~to,\\hspace{7cm}~$$\n",
    "$$\\displaystyle S_{\\omega} \\leq Q, ~~~~\\forall \\omega \\in \\Omega,$$\n",
    "$$\\displaystyle S_{\\omega} \\leq d_{\\omega}, ~~~~\\forall \\omega \\in \\Omega,$$\n",
    "$$\\displaystyle S_{\\omega} \\geq 0, ~~~~\\forall \\omega \\in \\Omega,$$\n",
    "$$\\displaystyle Q \\geq 0.\\hspace{1.8cm}~$$\n",
    "\n",
    "\n",
    "We will use the `pulp` python package to solve the stochastic newsvendor formulation. The `pulp` package is maintained by COIN-OR Foundation, Inc. From https://www.coin-or.org/about-the-foundation/:\n",
    "\n",
    ">The COIN-OR Foundation, Inc., is a non-profit educational and scientific foundation that was formed in March 2004 to manage the COIN-OR project. The COIN-OR project was first announced publicly at the 17th International Symposium on Mathematical Programming (ISMP) conference in Atlanta in the summer of 2000. It is governed by the COIN-OR Foundation by-laws.\n",
    ">\n",
    ">The mission of the COIN-OR Foundation, Inc., is to create and disseminate knowledge related to all aspects of computational operations research. To accomplish this mission, the Foundation will:\n",
    ">\n",
    ">Promote and support community-driven development of open-source software that exploits state-of-the-art research in OR;\n",
    "Develop and deploy an academic peer review process and forum for publication and citation of open-source software for OR;\n",
    "Facilitate the sharing of OR technology among scholars and practitioners;\n",
    "Increase community awareness and use of software tools published by the Foundation;\n",
    "Support the establishment of open standards for data interchange and software interoperability.\n",
    "\n",
    "The follow code block defines the parameters for our model and generates a 10-scenario sample that we will use to represent demand scenarios."
   ]
  },
  {
   "cell_type": "code",
   "execution_count": null,
   "metadata": {},
   "outputs": [],
   "source": [
    "# user-defined parameters\n",
    "scenarios = 10          # The number of scenarios to generate for the stochastic programming model\n",
    "unit_cost = 15          # The unit cost the newsvendor pays for each unit of product\n",
    "sale_price = 20         # The price that the newsvendor sells each unit of product at\n",
    "\n",
    "opt_sample = omf.distfit.trunc_kde_sample(pdf['x'], \n",
    "                                          pdf['y'],\n",
    "                                          sample_size = scenarios)\n",
    "opt_sample"
   ]
  },
  {
   "cell_type": "markdown",
   "metadata": {},
   "source": [
    "In the following code blocks, we will define and solve the Gurobi optimization model. The steps in creating and solving the model are:\n",
    "1. Create a `LpProblem` object, which we name *Newsvendor_Problem* (spaces in the problem name will result in warnings). When defining the problem we also have to specify the *sense* of the problem. This is referring to our objective. Specifically, later we will define an *objective function*. The sense of the problem specifies whether we want to *minimize* or *maximize* the objective function.\n",
    "2. Specify an expression for the objective function, which is the newsvendor's *expected* profit. Remember, we set the *sense* when defining the problem. Since we set the sense to *maximization*, our model will seek to maximize the newsvendor's expected profit.\n",
    "3. Create variables for the newvendor's order quantity and the amount that the newsvendor sells in each model scenario. These variables essentially represent decisions that the model can change in order to minimize or maximize our objective function (depending on what we specified when defining the problem).\n",
    "4. Add sets of constraints that ensure $i$) the amount that the newsvendor sells in each scenario is less than the amount ordered and $ii$) the amount that the newsvendor sells in each scenario is less than the demand in the scenario.\n",
    "5. Optimize the model\n",
    "\n",
    "The following code block creates a `LpProblem` instance and stores the instance as a variable named `prob`. The goal of our newsvendor problem is to determine an order quantity that maximizes the amount of profit that the newsvendor expects to make through sales. Although we have not defined this objective at this point, we need to specify the sense of the optimization when defining the problem."
   ]
  },
  {
   "cell_type": "code",
   "execution_count": null,
   "metadata": {},
   "outputs": [],
   "source": [
    "prob = pulp.LpProblem(\"Newsvendor_Problem\", pulp.LpMaximize)\n",
    "type(prob)"
   ]
  },
  {
   "cell_type": "markdown",
   "metadata": {},
   "source": [
    "The following code block adds the decision variables. Note that we create a *Sell* variable for each scenario and store the Sell variables for all scenarios in a Python dictionary."
   ]
  },
  {
   "cell_type": "code",
   "execution_count": null,
   "metadata": {},
   "outputs": [],
   "source": [
    "Order = pulp.LpVariable(\"Order_Quantity\", 0, None, pulp.LpContinuous)\n",
    "\n",
    "Sell = {}\n",
    "for scenario in range(scenarios):\n",
    "    Sell[scenario] = pulp.LpVariable(f\"Sell_in_Scenario_{scenario}\", 0, None, pulp.LpContinuous)"
   ]
  },
  {
   "cell_type": "markdown",
   "metadata": {},
   "source": [
    "We will now turn our attention to defining the objective function:\n",
    "\n",
    "$$\\displaystyle Maximize \\left(\\sum_{\\omega \\in \\Omega}pS_{\\omega}\\bigg/|\\Omega|\\right) - cQ.$$\n",
    "\n",
    "We will begin by constructing the summation term using a `LinExpr()` object. These objects allow us to make expressions involving defined variables and parameters. They can also be used when constructing constraints."
   ]
  },
  {
   "cell_type": "code",
   "execution_count": null,
   "metadata": {},
   "outputs": [],
   "source": [
    "order_cost = unit_cost*Order\n",
    "\n",
    "total_sales_across_scenarios = pulp.lpSum([sale_price * Sell[scenario] for scenario in range(scenarios)])\n",
    "\n",
    "objective_function = total_sales_across_scenarios/scenarios - order_cost\n",
    "prob += objective_function"
   ]
  },
  {
   "cell_type": "markdown",
   "metadata": {},
   "source": [
    "We will now add our constraints. Similar to the approach for adding variables, Gurobi offers an `addConstr` method to add individual constraints and an `addConstrs` method to add multiple constraints at once. Although the `addConstrs` method exists, I personally prefer to always use the `addConstr` method and build constraints using loops. The following code block builds the constraint set:\n",
    "\n",
    "$$\\displaystyle S_{\\omega} \\leq d_{\\omega}, ~~~~\\forall \\omega \\in \\Omega.$$\n",
    "\n",
    "Note how the code closely matches the formulation. Ultimately, **if you get the formulation right, coding it is easy!**"
   ]
  },
  {
   "cell_type": "code",
   "execution_count": null,
   "metadata": {},
   "outputs": [],
   "source": [
    "for scenario in range(scenarios):\n",
    "    prob += (Sell[scenario] <= opt_sample[scenario], f'Sell{scenario} <= Demand{scenario}')"
   ]
  },
  {
   "cell_type": "markdown",
   "metadata": {},
   "source": [
    "The following code block builds the constraint set:\n",
    "\n",
    "$$\\displaystyle S_{\\omega} \\leq Q, ~~~~\\forall \\omega \\in \\Omega.$$"
   ]
  },
  {
   "cell_type": "code",
   "execution_count": null,
   "metadata": {},
   "outputs": [],
   "source": [
    "for scenario in range(scenarios):\n",
    "    prob += (Sell[scenario] <= Order, f'Sell{scenario} <= Order')"
   ]
  },
  {
   "cell_type": "markdown",
   "metadata": {},
   "source": [
    "The following code block solves the problem, reports the status of the optimization, and prints some information regarding the solution."
   ]
  },
  {
   "cell_type": "code",
   "execution_count": null,
   "metadata": {},
   "outputs": [],
   "source": [
    "prob.solve()\n",
    "print(f'Status of solve: {pulp.LpStatus[prob.status]}')\n",
    "\n",
    "print(f'The optimal expected profit is {round(prob.objective.value(), 2)}')\n",
    "print(f'The optimal order quantity is {Order.value()}')\n",
    "for scenario in Sell.keys():\n",
    "    print(f'In scenario {scenario}, the newsvendor sells {Sell[scenario].value()} when demand is {opt_sample[scenario]}')"
   ]
  },
  {
   "cell_type": "markdown",
   "metadata": {},
   "source": [
    "# All together\n",
    "\n",
    "The following code block combines our previous code into a function that we can use to construct and solve the model."
   ]
  },
  {
   "cell_type": "code",
   "execution_count": null,
   "metadata": {},
   "outputs": [],
   "source": [
    "def solve_newsvendor_model(nv_sale_price, \n",
    "                           nv_unit_cost, \n",
    "                           demand_sample,\n",
    "                           verbose = False,\n",
    "                          ):\n",
    "    \n",
    "    num_scenarios = len(demand_sample)\n",
    "    \n",
    "    prob = pulp.LpProblem(\"Newsvendor_Problem\", pulp.LpMaximize)\n",
    "\n",
    "    Order = pulp.LpVariable(\"Order_Quantity\", 0, None, pulp.LpContinuous)\n",
    "\n",
    "    Sell = {}\n",
    "    for scenario in range(num_scenarios):\n",
    "        Sell[scenario] = pulp.LpVariable(f\"Sell_in_Scenario_{scenario}\", \n",
    "                                         lowBound = 0, \n",
    "                                         upBound = None, \n",
    "                                         cat = pulp.LpContinuous)\n",
    "\n",
    "    order_cost = unit_cost*Order\n",
    "\n",
    "    total_sales_across_scenarios = pulp.lpSum([sale_price * Sell[scenario] for scenario in range(num_scenarios)])\n",
    "\n",
    "    objective_function = total_sales_across_scenarios/num_scenarios - order_cost\n",
    "    prob += objective_function\n",
    "\n",
    "    for scenario in range(num_scenarios):\n",
    "        prob += (Sell[scenario] <= demand_sample[scenario], f'Sell{scenario} <= Demand{scenario}')\n",
    "\n",
    "    for scenario in range(num_scenarios):\n",
    "        prob += (Sell[scenario] <= Order, f'Sell{scenario} <= Order')\n",
    "\n",
    "    prob.solve()\n",
    "    if verbose:\n",
    "        print(f'Status of solve: {pulp.LpStatus[prob.status]}')\n",
    "\n",
    "        print(f'The optimal expected profit is {round(prob.objective.value(), 2)}')\n",
    "        print(f'The optimal order quantity is {Order.value()}')\n",
    "        for scenario in Sell.keys():\n",
    "            print(f'In scenario {scenario}, the newsvendor sells {Sell[scenario].value()} when demand is {opt_sample[scenario]}')\n",
    "            \n",
    "    return Order.value()"
   ]
  },
  {
   "cell_type": "markdown",
   "metadata": {},
   "source": [
    "The following code block demonstrates how the function can be used."
   ]
  },
  {
   "cell_type": "code",
   "execution_count": null,
   "metadata": {},
   "outputs": [],
   "source": [
    "unit_cost = 15\n",
    "sale_price = 20\n",
    "\n",
    "opt_sample = omf.distfit.trunc_kde_sample(pdf['x'], \n",
    "                                          pdf['y'],\n",
    "                                          sample_size = scenarios)\n",
    "\n",
    "solve_newsvendor_model(sale_price,\n",
    "                       unit_cost,\n",
    "                       opt_sample,\n",
    "                       verbose = False)"
   ]
  },
  {
   "cell_type": "markdown",
   "metadata": {},
   "source": [
    "The following code block defines an interactive visualization that we can use to observe how the stochastic programming solution compares to the theoretical solution as the number of scenarios that we include in our optimization model varies. As we increase the number of scenarios, the stochastin prgramming model is able to better approximate the underlying uncertainty, and as a result, the stochastic programming solution converges to the theoretical solution."
   ]
  },
  {
   "cell_type": "code",
   "execution_count": null,
   "metadata": {},
   "outputs": [],
   "source": [
    "scenarios_list = [1, 2, 3, 4, 5, 10, 25, 50, 100, 250, 500, 750, 1000]\n",
    "unit_cost = 15\n",
    "sale_price = 20\n",
    "\n",
    "@interact(scenarios = scenarios_list)\n",
    "\n",
    "def interactive_newsvendor(scenarios = scenarios_list[0]):\n",
    "    opt_sample = omf.distfit.trunc_kde_sample(pdf['x'], \n",
    "                                           pdf['y'], \n",
    "                                           sample_size = scenarios)\n",
    "    SP_solution = solve_newsvendor_model(sale_price, unit_cost, opt_sample)\n",
    "    \n",
    "    fig, ax = plt.subplots(1, 1, figsize=(12, 5))\n",
    "    ax.hist(data, bins=100, alpha = 0.5, edgecolor = 'k', density=True, label= 'data')\n",
    "    ax.axvline(cdfx[CF_index], label='Critical Fractile', color = 'k', linewidth=3)\n",
    "    ax.axvline(SP_solution, label='SP Solution', color = 'k', linestyle = '--', linewidth=3)\n",
    "    ax.xaxis.set_tick_params(labelsize=16)\n",
    "    ax.yaxis.set_tick_params(labelsize=16)\n",
    "    ax.legend(fontsize = 16)\n",
    "    ax.set_xlabel(\"Value\",fontsize = 16)\n",
    "    ax.set_ylabel(\"Relative Frequency\",fontsize = 16)\n",
    "    ax.set_title(\"Comparison of Stochastic Programming and Theoretical Solution\", fontsize=16)\n",
    "    plt.show()"
   ]
  },
  {
   "cell_type": "markdown",
   "metadata": {},
   "source": [
    "# Practical Application\n",
    "\n",
    "In this section, we will use the model that we have built to approximate weekly order quantities for a liquor distributor. The data that we will use is a sample of the data posted by the state of Iowa at https://data.iowa.gov/Economy/Iowa-Liquor-Sales/m3tr-qhgy (last verified on 3/4/2019). The following code block reads a sample of the data, which is saved in the `data` subfolder that resides in the same folder as this notebook file."
   ]
  },
  {
   "cell_type": "code",
   "execution_count": null,
   "metadata": {},
   "outputs": [],
   "source": [
    "data_path = pathlib.Path('data', 'iowa_liquor_sales.csv')\n",
    "iowa = pd.read_csv(data_path)\n",
    "iowa.shape"
   ]
  },
  {
   "cell_type": "markdown",
   "metadata": {},
   "source": [
    "As the previous code block shows, our data set includes a little over 45,528 records. The following code block uses the `head()` method to print the first three rows of the data."
   ]
  },
  {
   "cell_type": "code",
   "execution_count": null,
   "metadata": {},
   "outputs": [],
   "source": [
    "iowa.head(3)"
   ]
  },
  {
   "cell_type": "markdown",
   "metadata": {},
   "source": [
    "We will be considering the stocking decisions for a distributor. Even though the previous output shows that the data includes information on vendors, we will assume that a single distributor serves all of the stores included in the data set. Our goal will be to determine newsvendor weekly stocking quantities for top products. \n",
    "\n",
    "**Note: Although we are considering newsvendor quantities, this problem does not exactly fit a typical newsvendor setting since the stocking item (liquor) is not perishable in the short-term. We are essentially assuming the items are perishable for demonstration purposes.**\n",
    "\n",
    "First, we will convert the `date` column to a `datetime` object with the format *year-week*. For more information on formatting dates using `strftime` see https://docs.python.org/2/library/datetime.html#strftime-strptime-behavior."
   ]
  },
  {
   "cell_type": "code",
   "execution_count": null,
   "metadata": {},
   "outputs": [],
   "source": [
    "iowa['date'] = pd.to_datetime(iowa['date'])\n",
    "iowa['date'] = iowa['date'].dt.strftime('%Y-%U')"
   ]
  },
  {
   "cell_type": "markdown",
   "metadata": {},
   "source": [
    "We will be using the aggregation capabilities of `pandas` for our analysis. The following code block defines the `custom_grouper` function that we originally defined when looking at the concept of spend analysis."
   ]
  },
  {
   "cell_type": "code",
   "execution_count": null,
   "metadata": {},
   "outputs": [],
   "source": [
    "def custom_grouper(df, agg_dict, groupby_columns):\n",
    "    '''\n",
    "    This function groups the provided DataFrame, df, by the columns\n",
    "    specified in the groupby_columns argument. The aggregations specified\n",
    "    in the agg_dict dictionary are applied. Also, each numeric column in the \n",
    "    aggregated DataFrame is used to create a proportion column. The aggregated data\n",
    "    is returned as a DataFrame sorted by the keys of the agg_dict\n",
    "    dictionary, in the order they are specified, i.e., first key\n",
    "    has a higher sort priority than the second, etc...\n",
    "    '''\n",
    "    \n",
    "    grouped_df = df.groupby(groupby_columns).agg(agg_dict)\n",
    "    \n",
    "    grouped_df.columns = ['_'.join(col).strip() for col in grouped_df.columns.values]\n",
    "    \n",
    "    numeric_columns = grouped_df.select_dtypes(include='number').columns.tolist()\n",
    "\n",
    "    for column in numeric_columns:\n",
    "        grouped_df[f'{column}_proportion'] = (grouped_df[column]/grouped_df[column].sum())\n",
    "        \n",
    "    grouped_df = grouped_df.sort_values(numeric_columns)\n",
    "\n",
    "    return grouped_df"
   ]
  },
  {
   "cell_type": "markdown",
   "metadata": {},
   "source": [
    "Let's suppose we only want to consider the top 25 items according to total sales. The following code block creates a list of the associated items and overwrites the `iowa` object so that it only includes items that belong to the top 25."
   ]
  },
  {
   "cell_type": "code",
   "execution_count": null,
   "metadata": {},
   "outputs": [],
   "source": [
    "top_values = 25\n",
    "groupby_columns = ['itemno']\n",
    "agg_dict = {\n",
    "    'sale_bottles': ['sum'],\n",
    "}\n",
    "\n",
    "item_sales_df = custom_grouper(iowa, agg_dict, groupby_columns)\n",
    "top_sales_df = item_sales_df.nlargest(top_values, 'sale_bottles_sum')\n",
    "top_selling_items = top_sales_df.index.tolist()\n",
    "\n",
    "iowa = iowa[iowa['itemno'].isin(top_selling_items)]"
   ]
  },
  {
   "cell_type": "markdown",
   "metadata": {},
   "source": [
    "The following code block uses Pandas' `groupby` method to create a DataFrame object named `weekly_sales` that includes the weekly sales for the top 10 products."
   ]
  },
  {
   "cell_type": "code",
   "execution_count": null,
   "metadata": {},
   "outputs": [],
   "source": [
    "groupby_columns = ['itemno', 'date']\n",
    "agg_dict = {\n",
    "    'sale_bottles': ['sum'],\n",
    "}\n",
    "\n",
    "weekly_sales = custom_grouper(iowa, agg_dict, groupby_columns)\n",
    "weekly_sales = weekly_sales.reset_index()\n",
    "weekly_sales.head()"
   ]
  },
  {
   "cell_type": "markdown",
   "metadata": {},
   "source": [
    "The following code block uses the `state_bottle_cost` and `state_bottle_retail` columns to determine the mean sales price and unit cost for items included in our data. We save this data in a dictionary for easy access. We will use these averages as the sales price and unit cost in our newsvendor model."
   ]
  },
  {
   "cell_type": "code",
   "execution_count": null,
   "metadata": {},
   "outputs": [],
   "source": [
    "groupby_columns = ['itemno']\n",
    "agg_dict = {\n",
    "    'state_bottle_cost': ['mean'],\n",
    "    'state_bottle_retail': ['mean'],\n",
    "}\n",
    "\n",
    "bottle_costs = custom_grouper(iowa, agg_dict, groupby_columns)\n",
    "\n",
    "# dropping proportion columns\n",
    "bottle_costs = bottle_costs[[col for col in bottle_costs.columns if 'proportion' not in col]]\n",
    "bottle_costs = bottle_costs.to_dict(orient = 'index')\n",
    "bottle_costs"
   ]
  },
  {
   "cell_type": "markdown",
   "metadata": {},
   "source": [
    "The following code block outlines a process for solving the order quantity problem for a single item. The steps are outlined in the comments."
   ]
  },
  {
   "cell_type": "code",
   "execution_count": null,
   "metadata": {},
   "outputs": [],
   "source": [
    "# Specify the current item\n",
    "current_item_index = 0\n",
    "item = weekly_sales['itemno'].unique()[current_item_index]\n",
    "\n",
    "# Get the weekly sales for the specified item as an array\n",
    "item_sales = weekly_sales.loc[weekly_sales['itemno'] == item, 'sale_bottles_sum'].values\n",
    "\n",
    "# Remove outliers from the sales data\n",
    "item_sales = omf.distfit.handle_outliers(item_sales)\n",
    "\n",
    "# Retrieve the mean unit cost from the 'bottle_costs' object\n",
    "item_unit_cost = bottle_costs[item]['state_bottle_cost_mean']\n",
    "\n",
    "# Retrieve the mean sales price from the 'bottle_costs' object\n",
    "item_sale_price = bottle_costs[item]['state_bottle_retail_mean']\n",
    "\n",
    "# Fit a KDE to the sales data and store the associated bandwidth and kernel type\n",
    "best_params = omf.distfit.fit_best_kde(item_sales)\n",
    "\n",
    "# Approximate the probability density function (PDF) for the KDE\n",
    "pdf = omf.distfit.pdf_from_kde(item_sales, \n",
    "                               bandwidth = best_params['bandwidth'],\n",
    "                               kernel= best_params['kernel'])\n",
    "\n",
    "# Generate a sample from the KDE (in this case, we are using a sample size of 500)\n",
    "sample = omf.distfit.trunc_kde_sample(pdf['x'],\n",
    "                                      pdf['y'], \n",
    "                                      sample_size = 500)\n",
    "\n",
    "# Solve the newsvendor model using the approximated sales price, \n",
    "# the approximated unit cost, and the generated sample\n",
    "SP_solution = solve_newsvendor_model(item_sale_price, \n",
    "                                     item_unit_cost, \n",
    "                                     sample)\n",
    "\n",
    "# Plot the solution along with the sales sample\n",
    "fig, ax = plt.subplots(1, 1, figsize=(12, 6))\n",
    "\n",
    "ax.hist(item_sales, \n",
    "        bins = 50, \n",
    "        edgecolor = 'k', \n",
    "        density = True, \n",
    "        label= 'data')\n",
    "\n",
    "ax.axvline(SP_solution, \n",
    "           label='SP Solution', \n",
    "           color = 'k', \n",
    "           linestyle = '--', \n",
    "           linewidth=3)\n",
    "\n",
    "ax.xaxis.set_tick_params(labelsize=16)\n",
    "ax.yaxis.set_tick_params(labelsize=16)\n",
    "ax.legend(fontsize = 16)\n",
    "ax.set_xlabel('Value',fontsize = 16)\n",
    "ax.set_ylabel('Relative Frequency',fontsize = 16)\n",
    "ax.set_title('CDF for Sample', fontsize=16)\n",
    "plt.show()"
   ]
  },
  {
   "cell_type": "markdown",
   "metadata": {},
   "source": [
    "The following code block applies the process to all items in the top 25. The results are stored in an object named `order_data`."
   ]
  },
  {
   "cell_type": "code",
   "execution_count": null,
   "metadata": {},
   "outputs": [],
   "source": [
    "data_dict = {}\n",
    "\n",
    "for item in top_selling_items:\n",
    "    # Get the weekly sales for the specified item as an array\n",
    "    item_sales = weekly_sales.loc[weekly_sales['itemno'] == item, 'sale_bottles_sum'].values\n",
    "\n",
    "    # Remove outliers from the sales data\n",
    "    item_sales = omf.distfit.handle_outliers(item_sales)\n",
    "\n",
    "    # Retrieve the mean unit cost from the 'bottle_costs' object\n",
    "    item_unit_cost = bottle_costs[item]['state_bottle_cost_mean']\n",
    "\n",
    "    # Retrieve the mean sales price from the 'bottle_costs' object\n",
    "    item_sale_price = bottle_costs[item]['state_bottle_retail_mean']\n",
    "\n",
    "    # Fit a KDE to the sales data and store the associated bandwidth and kernel type\n",
    "    best_params = omf.distfit.fit_best_kde(item_sales)\n",
    "\n",
    "    # Approximate the probability density function (PDF) for the KDE\n",
    "    pdf = omf.distfit.pdf_from_kde(item_sales, \n",
    "                                   bandwidth = best_params['bandwidth'],\n",
    "                                   kernel= best_params['kernel'])\n",
    "\n",
    "    # Generate a sample from the KDE (in this case, we are using a sample size of 500)\n",
    "    sample = omf.distfit.trunc_kde_sample(pdf['x'],\n",
    "                                          pdf['y'], \n",
    "                                          sample_size = 500)\n",
    "\n",
    "    # Solve the newsvendor model using the approximated sales price, \n",
    "    # the approximated unit cost, and the generated sample\n",
    "    SP_solution = solve_newsvendor_model(item_sale_price, \n",
    "                                         item_unit_cost, \n",
    "                                         sample)\n",
    "    \n",
    "    # Append information to data_dict\n",
    "    data_dict[item] = {\n",
    "        'order': SP_solution,\n",
    "        'unit_cost': item_unit_cost,\n",
    "        'retail_price': item_sale_price,\n",
    "        'mean_historical_sales': np.array(item_sales).mean(),\n",
    "        'std_historical_sales': np.array(item_sales).std(ddof = 1),\n",
    "    }\n",
    "    print(f'Item #{item} complete.')\n",
    "\n",
    "# Create a DataFrame from the dictionary\n",
    "order_data = pd.DataFrame.from_dict(data_dict, orient = 'index')"
   ]
  },
  {
   "cell_type": "markdown",
   "metadata": {},
   "source": [
    "The following code block:\n",
    "1. Adds a column named `order/mean_sales` to the `order_data` object. This column expresses the order quantity as a proportion of the mean weekly sales.\n",
    "2. Adds a column named `profit_margin` to the `order_data` object. This column captures the profit margin for each item based on our approximations of the unit cost and sales price.\n",
    "3. Adds a column named `CV` to the `order_data` object. This column captures the coefficient of variation for each item. The coefficient of variation for a random variable is calculate by taking the ratio of the standard deviation to the mean.\n",
    "4. Sorts the data by the `order/mean_sales` column, from high to low.\n",
    "\n",
    "Are there any obvious patterns?"
   ]
  },
  {
   "cell_type": "code",
   "execution_count": null,
   "metadata": {},
   "outputs": [],
   "source": [
    "order_data['order/mean_sales'] = order_data['order']/order_data['mean_historical_sales']\n",
    "order_data['profit_margin'] = (order_data['retail_price'] - order_data['unit_cost'])/order_data['unit_cost']\n",
    "order_data['CV'] = order_data['std_historical_sales']/order_data['mean_historical_sales']\n",
    "order_data = order_data.sort_values('order/mean_sales', ascending = False)\n",
    "order_data"
   ]
  },
  {
   "cell_type": "code",
   "execution_count": null,
   "metadata": {},
   "outputs": [],
   "source": []
  }
 ],
 "metadata": {
  "kernelspec": {
   "display_name": "Python 3 (ipykernel)",
   "language": "python",
   "name": "python3"
  },
  "language_info": {
   "codemirror_mode": {
    "name": "ipython",
    "version": 3
   },
   "file_extension": ".py",
   "mimetype": "text/x-python",
   "name": "python",
   "nbconvert_exporter": "python",
   "pygments_lexer": "ipython3",
   "version": "3.10.8"
  }
 },
 "nbformat": 4,
 "nbformat_minor": 4
}
