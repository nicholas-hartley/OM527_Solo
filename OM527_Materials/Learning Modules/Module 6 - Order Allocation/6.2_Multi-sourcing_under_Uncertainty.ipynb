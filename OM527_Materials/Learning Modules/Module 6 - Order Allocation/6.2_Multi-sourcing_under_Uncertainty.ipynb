{
 "cells": [
  {
   "cell_type": "markdown",
   "metadata": {},
   "source": [
    "# 6.2 - Multi-sourcing under Supply Uncertainty\n",
    "Prepared by: Nickolas Freeman, PhD\n",
    "\n",
    "This notebook will demonstrate different approaches to modeling supply uncertainty. This demonstration will utilize a dataset that contains information regarding the sales of three products, each of which has been previously ordered from multiple suppliers. The steps we take to prepare the data for optimization modeling serve as a refresher on the use of Python for data manipulation. The following code block imports several libraries that we will use for the analysis. Note that I am using the `distribution_fitting` module that can be found at https://github.com/nkfreeman/modules."
   ]
  },
  {
   "cell_type": "code",
   "execution_count": null,
   "metadata": {},
   "outputs": [],
   "source": [
    "import pathlib\n",
    "\n",
    "from ipywidgets import interact\n",
    "import matplotlib.pyplot as plt\n",
    "import numpy as np\n",
    "import pandas as pd\n",
    "import pulp\n",
    "\n",
    "import OM527_functions as omf"
   ]
  },
  {
   "cell_type": "markdown",
   "metadata": {},
   "source": [
    "Throughout the notebook, we will use variables to store parameter values as much as possible. The motivation for doing this is to demonstrate how to write code in a form that is amenable to automation with as few changes as possible. The following code block specifies a variable that stores the path to the data file."
   ]
  },
  {
   "cell_type": "code",
   "execution_count": null,
   "metadata": {},
   "outputs": [],
   "source": [
    "data_filename = pathlib.Path('data', 'historical_data.xlsx')"
   ]
  },
  {
   "cell_type": "markdown",
   "metadata": {},
   "source": [
    "At this point, we are not sure exactly how the Excel file that contains the data is structured. The following code block creates a Pandas `ExcelFile` object using the the data file. This object has several attributes that we may use to gather information regarding the data's structure."
   ]
  },
  {
   "cell_type": "code",
   "execution_count": null,
   "metadata": {},
   "outputs": [],
   "source": [
    "data_file = pd.ExcelFile(data_filename)"
   ]
  },
  {
   "cell_type": "markdown",
   "metadata": {},
   "source": [
    "The following code block uses the `sheet_names` attribute of the `ExcelFile` object to generate a list of the sheet names contained in the Excel file."
   ]
  },
  {
   "cell_type": "code",
   "execution_count": null,
   "metadata": {},
   "outputs": [],
   "source": [
    "data_file.sheet_names"
   ]
  },
  {
   "cell_type": "markdown",
   "metadata": {},
   "source": [
    "Suppose that we want to read the data contained in each sheet into a separate Pandas `DataFrame` so that we can view the data and access the contents of the sheets for further analysis. Although Python (or most other programming languages for that matter) do not permit variables to be created *on-the-fly*, Python dictionaries allow us to achieve the same result. Essentially, we can create a dictionary with keys for each worksheet in the Excel file. The value for each key will be the associated data stored as a Pandas `DataFrame`. The following code block creates such a dictionary, which we name `data`."
   ]
  },
  {
   "cell_type": "code",
   "execution_count": null,
   "metadata": {},
   "outputs": [],
   "source": [
    "data = {}\n",
    "for current_sheet in data_file.sheet_names:\n",
    "    data[current_sheet] = pd.read_excel(data_filename, \n",
    "                                        sheet_name = current_sheet)"
   ]
  },
  {
   "cell_type": "markdown",
   "metadata": {},
   "source": [
    "The following code block iterates over the `data` object, printing the first three rows of each `DataFrame`."
   ]
  },
  {
   "cell_type": "code",
   "execution_count": null,
   "metadata": {},
   "outputs": [],
   "source": [
    "for key in data.keys():\n",
    "    print('-'*50)\n",
    "    print(f'The first entry in the {key} object is:')\n",
    "    print('-'*50)\n",
    "    print(data[key].loc[0])\n",
    "    print('\\n')"
   ]
  },
  {
   "cell_type": "markdown",
   "metadata": {},
   "source": [
    "# Data Exploration\n",
    "\n",
    "Before continuing, let's investigate the data to get a better understanding of the different cases we will be modeling. The following code block shows that the data associated with the `sales_data` key contains 1500 sales observations for three products (combined). Note that providing the `all` argument to the `describe` method tells Pandas that we would like to see information for non-numeric columns in addition to numeric columns."
   ]
  },
  {
   "cell_type": "code",
   "execution_count": null,
   "metadata": {},
   "outputs": [],
   "source": [
    "data['sales_data'].describe(include = 'all', datetime_is_numeric = True)"
   ]
  },
  {
   "cell_type": "markdown",
   "metadata": {},
   "source": [
    "The following code block provides information regarding the data associated with the `delivery_data` key. Using this information, along with the first row printed earlier, it seems that this data includes shipment outcomes for various orders for the available products. In particular, there are 3000 observations for the three products (combined). In total, orders are placed with 16 unique suppliers and the data includes a binary field that represents whether or not each delivery was made *on-time*, the yield assoicated with each delivery, the unit cost charged, and a numeric field representing the country the order shipped from."
   ]
  },
  {
   "cell_type": "code",
   "execution_count": null,
   "metadata": {},
   "outputs": [],
   "source": [
    "data['delivery_data'].describe(include='all')"
   ]
  },
  {
   "cell_type": "markdown",
   "metadata": {},
   "source": [
    "The following code block provides insight into the data associated with the `price_data` key. There are only three records, one for each product. Thus, the data seems to be providing the sales price for each product."
   ]
  },
  {
   "cell_type": "code",
   "execution_count": null,
   "metadata": {},
   "outputs": [],
   "source": [
    "data['price_data'].describe(include='all')"
   ]
  },
  {
   "cell_type": "markdown",
   "metadata": {},
   "source": [
    "Since we are interested in modeling supply uncertainty, lets look at the `delivery_data` in more detail. The following code block provides the number of unique values for the *On_Time*, *Yield*, *Unit_Cost*, and *Ship_From_Country* columns, grouped by *Supplier* and *Product*. Apparently, each supplier only provides a single product, charges a fixed unit cost, and ships from a single country. As noted earlier, the *On_Time* column contains only two values, whereas the *Yield* column appears to be continuous."
   ]
  },
  {
   "cell_type": "code",
   "execution_count": null,
   "metadata": {},
   "outputs": [],
   "source": [
    "agg_columns = ['Supplier', 'Product']\n",
    "\n",
    "agg_dict = {\n",
    "    'On_Time': ['nunique'],\n",
    "    'Yield': ['nunique'],\n",
    "    'Unit_Cost': ['nunique'],\n",
    "    'Ship_From_Country': ['nunique'],\n",
    "}\n",
    "\n",
    "data['delivery_data'].groupby(agg_columns).agg(agg_dict)"
   ]
  },
  {
   "cell_type": "markdown",
   "metadata": {},
   "source": [
    "We will be incorporating both the on-time delivery performance and yield for suppliers in our models. For ease of reference, we will create a function later that generates a dictionary we can use to easily access relevant supplier information. The following code block shows how we can use pandas `groupby` method to capture information regarding the product supplied, the mean on-time delivery, the unit cost, and the ship from country for each supplier."
   ]
  },
  {
   "cell_type": "code",
   "execution_count": null,
   "metadata": {},
   "outputs": [],
   "source": [
    "agg_columns = ['Supplier']\n",
    "\n",
    "agg_dict = {\n",
    "    'Product': ['first'],\n",
    "    'On_Time': ['mean'],\n",
    "    'Yield': ['mean'],\n",
    "    'Unit_Cost': ['mean'],\n",
    "    'Ship_From_Country': ['first'],\n",
    "}\n",
    "\n",
    "supplier_info = data['delivery_data'].groupby(agg_columns).agg(agg_dict)\n",
    "supplier_info.columns = ['_'.join(col).strip() for col in supplier_info.columns.values]\n",
    "supplier_info = supplier_info.to_dict(orient = 'index')\n",
    "supplier_info"
   ]
  },
  {
   "cell_type": "markdown",
   "metadata": {},
   "source": [
    "We will be constructing stochastic optimization models based on the supplier information. As we saw in the previous class, we can incorprate uncertainty using scenarios. Since the yield is continuous, we can use our parametric or non-parametric methods to fit a distribution and generate the sample. The following code block shows how this can be performed for a particular supplier using kernel density estimation."
   ]
  },
  {
   "cell_type": "code",
   "execution_count": null,
   "metadata": {},
   "outputs": [],
   "source": [
    "scenarios = 100\n",
    "\n",
    "current_supplier = 'Comp6'\n",
    "mask = data['delivery_data']['Supplier'] == current_supplier\n",
    "yield_vals = data['delivery_data'][mask]['Yield'].values\n",
    "\n",
    "best_params = omf.distfit.fit_best_kde(yield_vals)\n",
    "pdf = omf.distfit.pdf_from_kde(yield_vals, \n",
    "                               bandwidth = best_params['bandwidth'], \n",
    "                               kernel = best_params['kernel'])\n",
    "yield_sample = omf.distfit.trunc_kde_sample(pdf['x'], \n",
    "                                            pdf['y'], \n",
    "                                            sample_size = scenarios)\n",
    "\n",
    "fig, ax = plt.subplots(1, 1, figsize=(8, 5))\n",
    "ax.hist(yield_vals, \n",
    "        label = 'Yield Data', \n",
    "        alpha = 0.8, \n",
    "        edgecolor = 'k', \n",
    "        density = True)\n",
    "ax.hist(yield_sample, \n",
    "        label='Yield Sample', \n",
    "        alpha = 0.5, \n",
    "        color = 'g', \n",
    "        edgecolor = 'k', \n",
    "        density = True)\n",
    "ax.set_title(f'Sample for {current_supplier}', fontsize = 16)\n",
    "ax.set_xlabel('Value', fontsize = 16)\n",
    "ax.set_ylabel('Relative Frequency', fontsize = 14)\n",
    "ax.legend(fontsize = 14)\n",
    "plt.show()"
   ]
  },
  {
   "cell_type": "markdown",
   "metadata": {},
   "source": [
    "We will use a binomial distribution to generate scenarios for on-time delivery. From https://en.wikipedia.org/wiki/Binomial_distribution (accessed 3/20/2019):\n",
    "\n",
    ">In probability theory and statistics, the binomial distribution with parameters n and p is the discrete probability distribution of the number of successes in a sequence of n independent experiments, each asking a yes–no question, and each with its own boolean-valued outcome: a random variable containing a single bit of information: success/yes/true/one (with probability p) or failure/no/false/zero (with probability q = 1 − p). A single success/failure experiment is also called a Bernoulli trial or Bernoulli experiment and a sequence of outcomes is called a Bernoulli process; for a single trial, i.e., n = 1, the binomial distribution is a Bernoulli distribution. The binomial distribution is the basis for the popular binomial test of statistical significance.\n",
    "\n",
    "The following code block shows how we can use Numpy's binomial function to generate 100 scenarios for an example situation where on-time delivery is 80%."
   ]
  },
  {
   "cell_type": "code",
   "execution_count": null,
   "metadata": {},
   "outputs": [],
   "source": [
    "np.random.seed(0)\n",
    "my_sample = np.random.binomial(n = 1, \n",
    "                               p = 0.80, \n",
    "                               size = 100)\n",
    "\n",
    "print(f'The first five values of the sample are {my_sample[:10]}')\n",
    "print(f'The mean of the sample is {my_sample.mean()}')"
   ]
  },
  {
   "cell_type": "markdown",
   "metadata": {},
   "source": [
    "The following code block generates a 10000 point sample and shows how the values will converge to the true probability as the sample size increases."
   ]
  },
  {
   "cell_type": "code",
   "execution_count": null,
   "metadata": {},
   "outputs": [],
   "source": [
    "np.random.seed(0)\n",
    "my_sample = np.random.binomial(n = 1, \n",
    "                               p = 0.80, \n",
    "                               size = 10000)\n",
    "\n",
    "print(f'The first five values of the sample are {my_sample[:10]}')\n",
    "print(f'The mean of the sample is {my_sample.mean()}')"
   ]
  },
  {
   "cell_type": "markdown",
   "metadata": {},
   "source": [
    "The following code block generates an on-time delivery sample for a specified supplier. Note that I am just using the mean on-time delivery value from the `supplier_info` object to define the probability."
   ]
  },
  {
   "cell_type": "code",
   "execution_count": null,
   "metadata": {},
   "outputs": [],
   "source": [
    "scenarios = 100\n",
    "\n",
    "current_supplier = 'Comp6'\n",
    "np.random.binomial(n = 1, \n",
    "                   p = supplier_info[current_supplier]['On_Time_mean'], \n",
    "                   size = scenarios)"
   ]
  },
  {
   "cell_type": "markdown",
   "metadata": {},
   "source": [
    "The following code block defines a `create_supplier_info` function that applies the aggregations and distribution fitting methods we have looked at up to this point and returns a dictionary with the supplier info and generated samples. Note that this is just one way of working with the data. In practice, I would also consider how a `class` may be used to handle the supplier and product data, but this is beyond the scope of this course. For more information on classes and object-orieted programming see http://introtopython.org/classes.html (last accessed 3/27/2020). "
   ]
  },
  {
   "cell_type": "code",
   "execution_count": null,
   "metadata": {},
   "outputs": [],
   "source": [
    "def create_supplier_info(delivery_data, scenarios):\n",
    "    \n",
    "    agg_columns = ['Supplier']\n",
    "\n",
    "    agg_dict = {\n",
    "        'Product': ['first'],\n",
    "        'On_Time': ['mean'],\n",
    "        'Yield': ['mean'],\n",
    "        'Unit_Cost': ['mean'],\n",
    "        'Ship_From_Country': ['first'],\n",
    "    }\n",
    "\n",
    "    supplier_info_dict = data['delivery_data'].groupby(agg_columns).agg(agg_dict)\n",
    "    supplier_info_dict.columns = ['_'.join(col).strip() for col in supplier_info_dict.columns.values]\n",
    "    supplier_info_dict = supplier_info_dict.to_dict(orient = 'index')\n",
    "        \n",
    "    for current_supplier in supplier_info_dict.keys():\n",
    "        mask = delivery_data['Supplier'] == current_supplier\n",
    "        yield_vals = delivery_data.loc[mask, 'Yield'].values\n",
    "\n",
    "        best_params = omf.distfit.fit_best_kde(yield_vals)\n",
    "        pdf = omf.distfit.pdf_from_kde(yield_vals, \n",
    "                                       bandwidth = best_params['bandwidth'], \n",
    "                                       kernel = best_params['kernel'])\n",
    "        yield_sample = omf.distfit.trunc_kde_sample(pdf['x'], \n",
    "                                                     pdf['y'], \n",
    "                                                     sample_size = scenarios)\n",
    "        supplier_info_dict[current_supplier]['Yield_Sample'] = yield_sample\n",
    "        \n",
    "    for current_supplier in supplier_info_dict.keys():\n",
    "        supplier_info_dict[current_supplier]['OTD_Sample'] = (\n",
    "            np.random.binomial(n = 1,\n",
    "                               p = supplier_info_dict[current_supplier]['On_Time_mean'],\n",
    "                               size = scenarios)\n",
    "        )\n",
    "        \n",
    "    return supplier_info_dict"
   ]
  },
  {
   "cell_type": "markdown",
   "metadata": {},
   "source": [
    "The following code block demonstrates the use of the revised function."
   ]
  },
  {
   "cell_type": "code",
   "execution_count": null,
   "metadata": {},
   "outputs": [],
   "source": [
    "supplier_info = create_supplier_info(data['delivery_data'], 100)"
   ]
  },
  {
   "cell_type": "markdown",
   "metadata": {},
   "source": [
    "We will now look to construct a function for generating product info, i.e., a dictionary that contains a demand sample and the sales price for each product. The following code block shows how we can convert the data in the `price_data` DataFrame to a dictionary."
   ]
  },
  {
   "cell_type": "code",
   "execution_count": null,
   "metadata": {},
   "outputs": [],
   "source": [
    "price_dict = data['price_data'].set_index('Product').to_dict(orient = 'index')\n",
    "price_dict"
   ]
  },
  {
   "cell_type": "markdown",
   "metadata": {},
   "source": [
    "Using the same technique as we did in the `create_supplier_info` function to fit ditributions, the following code block defines a function to get the desired product data."
   ]
  },
  {
   "cell_type": "code",
   "execution_count": null,
   "metadata": {},
   "outputs": [],
   "source": [
    "def create_product_info(sales_data, price_data, scenarios):\n",
    "    \n",
    "    product_info_dict = price_data.set_index('Product').to_dict(orient = 'index')\n",
    "    \n",
    "    for current_product in product_info_dict.keys():\n",
    "        mask = sales_data['Product'] == current_product\n",
    "        values = sales_data.loc[mask, 'Sales'].values\n",
    "\n",
    "        best_params = omf.distfit.fit_best_kde(values)\n",
    "        pdf = omf.distfit.pdf_from_kde(values, \n",
    "                                       bandwidth = best_params['bandwidth'], \n",
    "                                       kernel = best_params['kernel'])\n",
    "        sample = omf.distfit.trunc_kde_sample(pdf['x'],\n",
    "                                              pdf['y'],\n",
    "                                              sample_size = scenarios)\n",
    "        product_info_dict[current_product]['Sales_Sample'] = sample        \n",
    "        \n",
    "    return product_info_dict"
   ]
  },
  {
   "cell_type": "markdown",
   "metadata": {},
   "source": [
    "The following code block demonstrates the previously defined function and prints the returned data fro product *A*."
   ]
  },
  {
   "cell_type": "code",
   "execution_count": null,
   "metadata": {},
   "outputs": [],
   "source": [
    "product_info = create_product_info(data['sales_data'], data['price_data'], 100)\n",
    "product_info['A']"
   ]
  },
  {
   "cell_type": "markdown",
   "metadata": {},
   "source": [
    "# Modeling Uncertain On-time Delivery\n",
    "\n",
    "We will now use the objects we have created to model a situation with uncertain on-time delivery. We will define a function for this purpose, which will allow us to easily iterate over all of the products. The function will take a current product, and our `supplier_info` and ` product_info` objects as arguments. The following code block shows how we will use the current product and `supplier_info` object to determine the relevant suppliers. "
   ]
  },
  {
   "cell_type": "code",
   "execution_count": null,
   "metadata": {},
   "outputs": [],
   "source": [
    "current_product = 'A'\n",
    "relevant_suppliers = [supplier for supplier in supplier_info.keys()\n",
    "                      if current_product == supplier_info[supplier]['Product_first']]\n",
    "print(f'The supplier for product {current_product} are {relevant_suppliers}')"
   ]
  },
  {
   "cell_type": "markdown",
   "metadata": {},
   "source": [
    "We use the following mathematical model.\n",
    "\n",
    "<u>Sets</u><br>\n",
    "$S$ - set of suppliers.<br>\n",
    "$\\Omega$ - set of scenarios.<br>\n",
    "<br>\n",
    "<u>Indices</u><br>\n",
    "$s$ - supplier index, $s \\in S$.<br>\n",
    "$\\omega$ - scenario index, $\\omega \\in \\Omega$.<br>\n",
    "<br>\n",
    "<u>Parameters</u><br>\n",
    "$p$ - unit sales price.<br>\n",
    "$c_{s}$ - unit cost charged by supplier $s$.<br>\n",
    "$d_{\\omega}$ - demand in scenario $\\omega$.<br>\n",
    "$\\alpha_{s\\omega}$ - 1, if supplier $s$ delivers in scenario $\\omega$; $0$, otherwise.<br>\n",
    "<br>\n",
    "<u>Variables</u><br>\n",
    "$Q_{S}$ - amount ordered from supplier $s$.<br>\n",
    "$S_{\\omega}$ - amount sold in scenario $\\omega$.<br>\n",
    "\n",
    "$$\\displaystyle Maximize \\sum_{\\omega \\in \\Omega}\\left(pS_{\\omega}- \\sum_{s\\in S}c_{s}\\alpha_{s\\omega}Q_{s}\\right)\\bigg/|\\Omega|$$\n",
    "\n",
    "\n",
    "$$Subject~to,\\hspace{7cm}~$$\n",
    "$$\\displaystyle S_{\\omega} \\leq \\sum_{s\\in S}\\alpha_{s\\omega}Q_{s}, ~~~~\\forall \\omega \\in \\Omega,$$\n",
    "$$\\displaystyle S_{\\omega} \\leq d_{\\omega}, ~~~~\\forall \\omega \\in \\Omega,$$\n",
    "$$\\displaystyle S_{\\omega} \\geq 0, ~~~~\\forall \\omega \\in \\Omega,$$\n",
    "$$\\displaystyle Q_{s} \\geq 0,~~~~\\forall s \\in S.$$\n",
    "\n",
    "The following code block defines our model for incorporating uncertain on-time delivery."
   ]
  },
  {
   "cell_type": "code",
   "execution_count": null,
   "metadata": {},
   "outputs": [],
   "source": [
    "def solve_OTD_model(current_product, \n",
    "                    product_info_dict, \n",
    "                    supplier_info_dict):\n",
    "    \n",
    "    demand_sample = product_info_dict[current_product]['Sales_Sample']\n",
    "    sales_price = product_info_dict[current_product]['Sales_Price']\n",
    "    relevant_suppliers = [supplier for supplier in supplier_info_dict.keys()\n",
    "                          if current_product == supplier_info_dict[supplier]['Product_first']]\n",
    "    num_scenarios = len(demand_sample)\n",
    "    \n",
    "    prob = pulp.LpProblem(\"Newsvendor_Problem\", pulp.LpMaximize)\n",
    "\n",
    "    Order = {} \n",
    "    for supplier in relevant_suppliers:\n",
    "        Order[supplier] = pulp.LpVariable(f\"Order_from_{supplier}\", \n",
    "                                          lowBound = 0, \n",
    "                                          upBound = None, \n",
    "                                          cat = pulp.LpContinuous)\n",
    "\n",
    "    Sell = {}\n",
    "    for scenario in range(num_scenarios):\n",
    "        Sell[scenario] = pulp.LpVariable(f\"Sell_in_Scenario_{scenario}\", \n",
    "                                         lowBound = 0, \n",
    "                                         upBound = None, \n",
    "                                         cat = pulp.LpContinuous)\n",
    "\n",
    "    expected_revenue = []\n",
    "    for scenario in range(num_scenarios):\n",
    "        expected_revenue.append(sales_price*Sell[scenario])\n",
    "    expected_revenue = pulp.lpSum(expected_revenue)/num_scenarios\n",
    "\n",
    "    expected_cost = []\n",
    "    for scenario in range(num_scenarios): \n",
    "        for supplier in relevant_suppliers:\n",
    "            expected_cost.append(supplier_info_dict[supplier]['Unit_Cost_mean']\\\n",
    "                                 *Order[supplier]\\\n",
    "                                 *supplier_info_dict[supplier]['OTD_Sample'][scenario])\n",
    "    expected_cost = pulp.lpSum(expected_cost)/num_scenarios\n",
    "\n",
    "    objective_function = expected_revenue - expected_cost\n",
    "    prob += objective_function\n",
    "\n",
    "    for scenario in range(num_scenarios):\n",
    "        total_delivered = pulp.lpSum([Order[supplier]*supplier_info_dict[supplier]['OTD_Sample'][scenario]\n",
    "                                      for supplier in relevant_suppliers]) \n",
    "        prob += (Sell[scenario] <= total_delivered, f'Sell{scenario} <= Order')\n",
    "\n",
    "    for scenario in range(num_scenarios):\n",
    "        prob += (Sell[scenario] <= demand_sample[scenario], f'Sell{scenario} <= Demand{scenario}')\n",
    "        \n",
    "    prob.solve()    \n",
    "       \n",
    "    solution_dict = {}\n",
    "    for supplier in relevant_suppliers:\n",
    "        solution_dict[supplier] = Order[supplier].value()\n",
    "\n",
    "    return solution_dict"
   ]
  },
  {
   "cell_type": "markdown",
   "metadata": {},
   "source": [
    "The following code block shows that the function returns a dictionary with the optimal order quantity from each supplier."
   ]
  },
  {
   "cell_type": "code",
   "execution_count": null,
   "metadata": {},
   "outputs": [],
   "source": [
    "solve_OTD_model('A', product_info, supplier_info)"
   ]
  },
  {
   "cell_type": "markdown",
   "metadata": {},
   "source": [
    "The following code block shows how our functions work together to solve the uncertain on-time delivery model for all products."
   ]
  },
  {
   "cell_type": "code",
   "execution_count": null,
   "metadata": {},
   "outputs": [],
   "source": [
    "scenarios = 1000\n",
    "product_info = create_product_info(data['sales_data'], data['price_data'], scenarios)\n",
    "supplier_info = create_supplier_info(data['delivery_data'], scenarios)\n",
    "\n",
    "for current_product in product_info.keys():\n",
    "    print('-'*50)\n",
    "    print(f'Product {current_product}')\n",
    "    print('-'*50)\n",
    "    solution = solve_OTD_model(current_product, product_info, supplier_info)\n",
    "    \n",
    "    for key in solution.keys():\n",
    "        print(f'Order {solution[key]} from {key}')\n",
    "    print('\\n')"
   ]
  },
  {
   "cell_type": "markdown",
   "metadata": {},
   "source": [
    "# Yield Uncertainty\n",
    "\n",
    "We will now consider yield uncertainty using the following mathematical model.\n",
    "\n",
    "<u>Sets</u><br>\n",
    "$S$ - set of suppliers.<br>\n",
    "$\\Omega$ - set of scenarios.<br>\n",
    "<br>\n",
    "<u>Indices</u><br>\n",
    "$s$ - supplier index, $s \\in S$.<br>\n",
    "$\\omega$ - scenario index, $\\omega \\in \\Omega$.<br>\n",
    "<br>\n",
    "<u>Parameters</u><br>\n",
    "$p$ - unit sales price.<br>\n",
    "$c_{s}$ - unit cost charged by supplier $s$.<br>\n",
    "$d_{\\omega}$ - demand in scenario $\\omega$.<br>\n",
    "$\\beta_{s\\omega}$ - yield proportion for supplier $s$ in scenario $\\omega$<br>\n",
    "<br>\n",
    "<u>Variables</u><br>\n",
    "$Q_{S}$ - amount ordered from supplier $s$.<br>\n",
    "$S_{\\omega}$ - amount sold in scenario $\\omega$.<br>\n",
    "\n",
    "$$\\displaystyle Maximize \\sum_{\\omega \\in \\Omega}\\left(pS_{\\omega}- \\sum_{s\\in S}c_{s}\\beta_{s\\omega}Q_{s}\\right)\\bigg/|\\Omega|$$\n",
    "\n",
    "\n",
    "$$Subject~to,\\hspace{7cm}~$$\n",
    "$$\\displaystyle S_{\\omega} \\leq \\sum_{s\\in S}\\beta_{s\\omega}Q_{s}, ~~~~\\forall \\omega \\in \\Omega,$$\n",
    "$$\\displaystyle S_{\\omega} \\leq d_{\\omega}, ~~~~\\forall \\omega \\in \\Omega,$$\n",
    "$$\\displaystyle S_{\\omega} \\geq 0, ~~~~\\forall \\omega \\in \\Omega,$$\n",
    "$$\\displaystyle Q_{s} \\geq 0,~~~~\\forall s \\in S.$$\n",
    "\n",
    "The following code block defines our model for incorporating uncertain yield."
   ]
  },
  {
   "cell_type": "code",
   "execution_count": null,
   "metadata": {},
   "outputs": [],
   "source": [
    "def solve_uncertain_yield_model(current_product, \n",
    "                                product_info_dict, \n",
    "                                supplier_info_dict):\n",
    "    \n",
    "    demand_sample = product_info_dict[current_product]['Sales_Sample']\n",
    "    sales_price = product_info_dict[current_product]['Sales_Price']\n",
    "    relevant_suppliers = [supplier for supplier in supplier_info_dict.keys()\n",
    "                          if current_product == supplier_info_dict[supplier]['Product_first']]\n",
    "    num_scenarios = len(demand_sample)\n",
    "    \n",
    "    prob = pulp.LpProblem(\"Newsvendor_Problem\", pulp.LpMaximize)\n",
    "\n",
    "    Order = {} \n",
    "    for supplier in relevant_suppliers:\n",
    "        Order[supplier] = pulp.LpVariable(f\"Order_from_{supplier}\", \n",
    "                                          lowBound = 0, \n",
    "                                          upBound = None, \n",
    "                                          cat = pulp.LpContinuous)\n",
    "\n",
    "    Sell = {}\n",
    "    for scenario in range(num_scenarios):\n",
    "        Sell[scenario] = pulp.LpVariable(f\"Sell_in_Scenario_{scenario}\", \n",
    "                                         lowBound = 0, \n",
    "                                         upBound = None, \n",
    "                                         cat = pulp.LpContinuous)\n",
    "\n",
    "    expected_revenue = []\n",
    "    for scenario in range(num_scenarios):\n",
    "        expected_revenue.append(sales_price*Sell[scenario])\n",
    "    expected_revenue = pulp.lpSum(expected_revenue)/num_scenarios\n",
    "\n",
    "    expected_cost = []\n",
    "    for scenario in range(num_scenarios): \n",
    "        for supplier in relevant_suppliers:\n",
    "            expected_cost.append(supplier_info_dict[supplier]['Unit_Cost_mean']\\\n",
    "                                 *Order[supplier]\\\n",
    "                                 *supplier_info_dict[supplier]['Yield_Sample'][scenario])\n",
    "    expected_cost = pulp.lpSum(expected_cost)/num_scenarios\n",
    "\n",
    "    objective_function = expected_revenue - expected_cost\n",
    "    prob += objective_function\n",
    "\n",
    "    for scenario in range(num_scenarios):\n",
    "        total_delivered = pulp.lpSum([Order[supplier]*supplier_info_dict[supplier]['Yield_Sample'][scenario]\n",
    "                                      for supplier in relevant_suppliers]) \n",
    "        prob += (Sell[scenario] <= total_delivered, f'Sell{scenario} <= Order')\n",
    "\n",
    "    for scenario in range(num_scenarios):\n",
    "        prob += (Sell[scenario] <= demand_sample[scenario], f'Sell{scenario} <= Demand{scenario}')\n",
    "        \n",
    "    prob.solve()    \n",
    "       \n",
    "    solution_dict = {}\n",
    "    for supplier in relevant_suppliers:\n",
    "        solution_dict[supplier] = Order[supplier].value()\n",
    "\n",
    "    return solution_dict"
   ]
  },
  {
   "cell_type": "markdown",
   "metadata": {},
   "source": [
    "The following code block solves the uncertain yield model for all products."
   ]
  },
  {
   "cell_type": "code",
   "execution_count": null,
   "metadata": {},
   "outputs": [],
   "source": [
    "scenarios = 1000\n",
    "product_info = create_product_info(data['sales_data'], data['price_data'], scenarios)\n",
    "supplier_info = create_supplier_info(data['delivery_data'], scenarios)\n",
    "\n",
    "for current_product in product_info.keys():\n",
    "    print('-'*50)\n",
    "    print(f'Product {current_product}')\n",
    "    print('-'*50)\n",
    "    solution = solve_uncertain_yield_model(current_product, product_info, supplier_info)\n",
    "    \n",
    "    for key in solution.keys():\n",
    "        print(f'Order {solution[key]} from {key}')\n",
    "    print('\\n')"
   ]
  },
  {
   "cell_type": "markdown",
   "metadata": {},
   "source": [
    "# All-or-Nothing Disruptions and Yield Uncertainty\n",
    "\n",
    "We will now consider both all-or-nothing disruptions and yield uncertainty using the following mathematical model.\n",
    "\n",
    "<u>Sets</u><br>\n",
    "$S$ - set of suppliers.<br>\n",
    "$\\Omega$ - set of scenarios.<br>\n",
    "<br>\n",
    "<u>Indices</u><br>\n",
    "$s$ - supplier index, $s \\in S$.<br>\n",
    "$\\omega$ - scenario index, $\\omega \\in \\Omega$.<br>\n",
    "<br>\n",
    "<u>Parameters</u><br>\n",
    "$p$ - unit sales price.<br>\n",
    "$c_{s}$ - unit cost charged by supplier $s$.<br>\n",
    "$d_{\\omega}$ - demand in scenario $\\omega$.<br>\n",
    "$\\alpha_{s\\omega}$ - 1, if supplier $s$ delivers in scenario $\\omega$; $0$, otherwise.<br>\n",
    "$\\beta_{s\\omega}$ - yield proportion for supplier $s$ in scenario $\\omega$<br>\n",
    "<br>\n",
    "<u>Variables</u><br>\n",
    "$Q_{S}$ - amount ordered from supplier $s$.<br>\n",
    "$S_{\\omega}$ - amount sold in scenario $\\omega$.<br>\n",
    "\n",
    "$$\\displaystyle Maximize \\sum_{\\omega \\in \\Omega}\\left(pS_{\\omega}- \\sum_{s\\in S}c_{s}\\alpha_{s\\omega}\\beta_{s\\omega}Q_{s}\\right)\\bigg/|\\Omega|$$\n",
    "\n",
    "\n",
    "$$Subject~to,\\hspace{7cm}~$$\n",
    "$$\\displaystyle S_{\\omega} \\leq \\sum_{s\\in S}\\alpha_{s\\omega}\\beta_{s\\omega}Q_{s}, ~~~~\\forall \\omega \\in \\Omega,$$\n",
    "$$\\displaystyle S_{\\omega} \\leq d_{\\omega}, ~~~~\\forall \\omega \\in \\Omega,$$\n",
    "$$\\displaystyle S_{\\omega} \\geq 0, ~~~~\\forall \\omega \\in \\Omega,$$\n",
    "$$\\displaystyle Q_{s} \\geq 0,~~~~\\forall s \\in S.$$\n",
    "\n",
    "The following code block defines our model for incorporating uncertain yield."
   ]
  },
  {
   "cell_type": "code",
   "execution_count": null,
   "metadata": {},
   "outputs": [],
   "source": [
    "def solve_uncertain_yield_and_OTD_model(current_product, \n",
    "                                product_info_dict, \n",
    "                                supplier_info_dict):\n",
    "    \n",
    "    demand_sample = product_info_dict[current_product]['Sales_Sample']\n",
    "    sales_price = product_info_dict[current_product]['Sales_Price']\n",
    "    relevant_suppliers = [supplier for supplier in supplier_info_dict.keys()\n",
    "                          if current_product == supplier_info_dict[supplier]['Product_first']]\n",
    "    num_scenarios = len(demand_sample)\n",
    "    \n",
    "    prob = pulp.LpProblem(\"Newsvendor_Problem\", pulp.LpMaximize)\n",
    "\n",
    "    Order = {} \n",
    "    for supplier in relevant_suppliers:\n",
    "        Order[supplier] = pulp.LpVariable(f\"Order_from_{supplier}\", \n",
    "                                          lowBound = 0, \n",
    "                                          upBound = None, \n",
    "                                          cat = pulp.LpContinuous)\n",
    "\n",
    "    Sell = {}\n",
    "    for scenario in range(num_scenarios):\n",
    "        Sell[scenario] = pulp.LpVariable(f\"Sell_in_Scenario_{scenario}\", \n",
    "                                         lowBound = 0, \n",
    "                                         upBound = None, \n",
    "                                         cat = pulp.LpContinuous)\n",
    "\n",
    "    expected_revenue = []\n",
    "    for scenario in range(num_scenarios):\n",
    "        expected_revenue.append(sales_price*Sell[scenario])\n",
    "    expected_revenue = pulp.lpSum(expected_revenue)/num_scenarios\n",
    "\n",
    "    expected_cost = []\n",
    "    for scenario in range(num_scenarios): \n",
    "        for supplier in relevant_suppliers:\n",
    "            expected_cost.append(supplier_info_dict[supplier]['Unit_Cost_mean']\\\n",
    "                                 *Order[supplier]\\\n",
    "                                 *supplier_info_dict[supplier]['Yield_Sample'][scenario]\\\n",
    "                                 *supplier_info_dict[supplier]['OTD_Sample'][scenario])\n",
    "    expected_cost = pulp.lpSum(expected_cost)/num_scenarios\n",
    "\n",
    "    objective_function = expected_revenue - expected_cost\n",
    "    prob += objective_function\n",
    "\n",
    "    for scenario in range(num_scenarios):\n",
    "        total_delivered = pulp.lpSum([Order[supplier]*supplier_info_dict[supplier]['OTD_Sample'][scenario]\n",
    "                                      *supplier_info_dict[supplier]['Yield_Sample'][scenario]\n",
    "                                      for supplier in relevant_suppliers]) \n",
    "        prob += (Sell[scenario] <= total_delivered, f'Sell{scenario} <= Order')\n",
    "\n",
    "    for scenario in range(num_scenarios):\n",
    "        prob += (Sell[scenario] <= demand_sample[scenario], f'Sell{scenario} <= Demand{scenario}')\n",
    "        \n",
    "    prob.solve()    \n",
    "       \n",
    "    solution_dict = {}\n",
    "    for supplier in relevant_suppliers:\n",
    "        solution_dict[supplier] = Order[supplier].value()\n",
    "\n",
    "    return solution_dict"
   ]
  },
  {
   "cell_type": "markdown",
   "metadata": {},
   "source": [
    "The following code block solves the combined model for all products."
   ]
  },
  {
   "cell_type": "code",
   "execution_count": null,
   "metadata": {},
   "outputs": [],
   "source": [
    "scenarios = 1000\n",
    "product_info = create_product_info(data['sales_data'], data['price_data'], scenarios)\n",
    "supplier_info = create_supplier_info(data['delivery_data'], scenarios)\n",
    "\n",
    "for current_product in product_info.keys():\n",
    "    print('-'*50)\n",
    "    print(f'Product {current_product}')\n",
    "    print('-'*50)\n",
    "    solution = solve_uncertain_yield_and_OTD_model(current_product, product_info, supplier_info)\n",
    "    \n",
    "    for key in solution.keys():\n",
    "        print(f'Order {solution[key]} from {key}')\n",
    "    print('\\n')"
   ]
  },
  {
   "cell_type": "markdown",
   "metadata": {},
   "source": [
    "# Solution Comparison\n",
    "\n",
    "The following code block demonstrates how our functions and models may be used to solve all variants of the problem for all products and output the results to an Excel file."
   ]
  },
  {
   "cell_type": "code",
   "execution_count": null,
   "metadata": {},
   "outputs": [],
   "source": [
    "data_filename = pathlib.Path('data', 'historical_data.xlsx')\n",
    "data_file = pd.ExcelFile(data_filename)\n",
    "data = {}\n",
    "for current_sheet in data_file.sheet_names:\n",
    "    data[current_sheet] = pd.read_excel(data_filename, \n",
    "                                        sheet_name = current_sheet)\n",
    "\n",
    "scenarios = 1000\n",
    "product_info = create_product_info(data['sales_data'], data['price_data'], scenarios)\n",
    "supplier_info = create_supplier_info(data['delivery_data'], scenarios)\n",
    "\n",
    "with pd.ExcelWriter('6.2_output.xlsx') as writer:  \n",
    "\n",
    "    for current_product in product_info.keys():\n",
    "        print(f'Starting product {current_product}')\n",
    "        OTD_solution = solve_OTD_model(current_product, \n",
    "                                       product_info, \n",
    "                                       supplier_info)\n",
    "        Yield_solution = solve_uncertain_yield_model(current_product, \n",
    "                                                     product_info, \n",
    "                                                     supplier_info)\n",
    "        OTD_and_Yield_solution = solve_uncertain_yield_and_OTD_model(current_product, \n",
    "                                                                     product_info, \n",
    "                                                                     supplier_info)        \n",
    "        solution_dict = {}\n",
    "        for key in OTD_solution.keys():\n",
    "            solution_dict[key] = {\n",
    "                'Random_OTD_Solution': OTD_solution[key],\n",
    "                'Random_Yield_Solution': Yield_solution[key],\n",
    "                'Random_OTD_and Yield_Solution': OTD_and_Yield_solution[key],\n",
    "            }\n",
    "\n",
    "            \n",
    "        solution_df = pd.DataFrame.from_dict(solution_dict, orient = 'index')\n",
    "        solution_df = solution_df.reset_index()\n",
    "        solution_df.to_excel(writer,\n",
    "                             sheet_name=f'Product_{current_product}',\n",
    "                             index = False)"
   ]
  },
  {
   "cell_type": "code",
   "execution_count": null,
   "metadata": {},
   "outputs": [],
   "source": []
  }
 ],
 "metadata": {
  "kernelspec": {
   "display_name": "Python 3 (ipykernel)",
   "language": "python",
   "name": "python3"
  },
  "language_info": {
   "codemirror_mode": {
    "name": "ipython",
    "version": 3
   },
   "file_extension": ".py",
   "mimetype": "text/x-python",
   "name": "python",
   "nbconvert_exporter": "python",
   "pygments_lexer": "ipython3",
   "version": "3.10.8"
  }
 },
 "nbformat": 4,
 "nbformat_minor": 4
}
