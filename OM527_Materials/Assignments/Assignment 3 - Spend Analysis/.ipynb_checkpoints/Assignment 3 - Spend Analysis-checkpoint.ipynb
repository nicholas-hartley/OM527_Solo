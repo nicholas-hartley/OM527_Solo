{
 "cells": [
  {
   "cell_type": "markdown",
   "metadata": {},
   "source": [
    "For this assignment, you will replicate the spend analysis process we covered in class on a new dataset. The dataset covers government contracts for the state of Delaware during Fiscal Year 2019. The dataset was downloaded from https://www.usaspending.gov/. \n",
    "\n",
    "The following code block imports some necessary libraries and defines the path to the data file."
   ]
  },
  {
   "cell_type": "code",
   "execution_count": 1,
   "metadata": {},
   "outputs": [],
   "source": [
    "import pathlib\n",
    "\n",
    "import pandas as pd\n",
    "\n",
    "# Specify maximum columns = 40\n",
    "pd.set_option('display.max_columns', 40)\n",
    "\n",
    "# Specify floating-point precision\n",
    "pd.set_option('display.float_format', '{:.4f}'.format)\n",
    "\n",
    "data_filepath = pathlib.Path('data', 'DE_FY2019_base.csv')"
   ]
  },
  {
   "cell_type": "markdown",
   "metadata": {},
   "source": [
    "The following code block defines the `custom_grouper` function that we used in the notebook covering the concept of spend analysis."
   ]
  },
  {
   "cell_type": "code",
   "execution_count": 2,
   "metadata": {},
   "outputs": [],
   "source": [
    "def custom_grouper(df, agg_dict, groupby_columns):\n",
    "    '''\n",
    "    This function groups the provided DataFrame, df, by the columns\n",
    "    specified in the groupby_columns argument. The aggregations specified\n",
    "    in the agg_dict dictionary are applied. Also, each numeric column in the \n",
    "    aggregated DataFrame is used to create a proportion column. The aggregated data\n",
    "    is returned as a DataFrame sorted by the keys of the agg_dict\n",
    "    dictionary, in the order they are specified, i.e., first key\n",
    "    has a higher sort priority than the second, etc...\n",
    "    '''\n",
    "    \n",
    "    grouped_df = df.groupby(groupby_columns).agg(agg_dict)\n",
    "    \n",
    "    grouped_df.columns = ['_'.join(col).strip() for col in grouped_df.columns.values]\n",
    "    \n",
    "    numeric_columns = grouped_df.select_dtypes(include='number').columns.tolist()\n",
    "\n",
    "    for column in numeric_columns:\n",
    "        grouped_df[f'{column}_proportion'] = (grouped_df[column]/grouped_df[column].sum())\n",
    "        \n",
    "    grouped_df = grouped_df.sort_values(numeric_columns)\n",
    "\n",
    "    return grouped_df"
   ]
  },
  {
   "cell_type": "markdown",
   "metadata": {},
   "source": [
    "The following code block reads the data and prints the first five rows."
   ]
  },
  {
   "cell_type": "code",
   "execution_count": 3,
   "metadata": {},
   "outputs": [
    {
     "data": {
      "text/html": [
       "<div>\n",
       "<style scoped>\n",
       "    .dataframe tbody tr th:only-of-type {\n",
       "        vertical-align: middle;\n",
       "    }\n",
       "\n",
       "    .dataframe tbody tr th {\n",
       "        vertical-align: top;\n",
       "    }\n",
       "\n",
       "    .dataframe thead th {\n",
       "        text-align: right;\n",
       "    }\n",
       "</style>\n",
       "<table border=\"1\" class=\"dataframe\">\n",
       "  <thead>\n",
       "    <tr style=\"text-align: right;\">\n",
       "      <th></th>\n",
       "      <th>award_id</th>\n",
       "      <th>dollars_obligated</th>\n",
       "      <th>awarding_agency_name</th>\n",
       "      <th>recipient_duns</th>\n",
       "      <th>recipient_name</th>\n",
       "      <th>contract_pricing_code</th>\n",
       "      <th>contract_pricing</th>\n",
       "      <th>naics_code</th>\n",
       "      <th>naics_description</th>\n",
       "      <th>extent_competed</th>\n",
       "      <th>solicitation_procedures</th>\n",
       "      <th>awarding_agency_abbr</th>\n",
       "    </tr>\n",
       "  </thead>\n",
       "  <tbody>\n",
       "    <tr>\n",
       "      <th>0</th>\n",
       "      <td>36C24819D0009</td>\n",
       "      <td>0.0000</td>\n",
       "      <td>DEPARTMENT OF VETERANS AFFAIRS (VA)</td>\n",
       "      <td>195823570</td>\n",
       "      <td>AGILENT TECHNOLOGIES, INC.</td>\n",
       "      <td>J</td>\n",
       "      <td>FIRM FIXED PRICE</td>\n",
       "      <td>334510</td>\n",
       "      <td>ELECTROMEDICAL AND ELECTROTHERAPEUTIC APPARATU...</td>\n",
       "      <td>NOT COMPETED</td>\n",
       "      <td>ONLY ONE SOURCE</td>\n",
       "      <td>VA</td>\n",
       "    </tr>\n",
       "    <tr>\n",
       "      <th>1</th>\n",
       "      <td>36C25019D0016</td>\n",
       "      <td>0.0000</td>\n",
       "      <td>DEPARTMENT OF VETERANS AFFAIRS (VA)</td>\n",
       "      <td>51154354</td>\n",
       "      <td>ADVANT-EDGE SOLUTIONS OF MIDDLE ATLANTIC, INC.</td>\n",
       "      <td>J</td>\n",
       "      <td>FIRM FIXED PRICE</td>\n",
       "      <td>562211</td>\n",
       "      <td>HAZARDOUS WASTE TREATMENT AND DISPOSAL</td>\n",
       "      <td>COMPETED UNDER SAP</td>\n",
       "      <td>SIMPLIFIED ACQUISITION</td>\n",
       "      <td>VA</td>\n",
       "    </tr>\n",
       "    <tr>\n",
       "      <th>2</th>\n",
       "      <td>VA24414C0449</td>\n",
       "      <td>56760.0000</td>\n",
       "      <td>DEPARTMENT OF VETERANS AFFAIRS (VA)</td>\n",
       "      <td>51154354</td>\n",
       "      <td>ADVANT-EDGE SOLUTIONS OF MIDDLE ATLANTIC, INC.</td>\n",
       "      <td>J</td>\n",
       "      <td>FIRM FIXED PRICE</td>\n",
       "      <td>562998</td>\n",
       "      <td>ALL OTHER MISCELLANEOUS WASTE MANAGEMENT SERVICES</td>\n",
       "      <td>FULL AND OPEN COMPETITION AFTER EXCLUSION OF S...</td>\n",
       "      <td>NEGOTIATED PROPOSAL/QUOTE</td>\n",
       "      <td>VA</td>\n",
       "    </tr>\n",
       "    <tr>\n",
       "      <th>3</th>\n",
       "      <td>VA24414C0450</td>\n",
       "      <td>291625.4700</td>\n",
       "      <td>DEPARTMENT OF VETERANS AFFAIRS (VA)</td>\n",
       "      <td>51154354</td>\n",
       "      <td>ADVANT-EDGE SOLUTIONS OF MIDDLE ATLANTIC, INC.</td>\n",
       "      <td>J</td>\n",
       "      <td>FIRM FIXED PRICE</td>\n",
       "      <td>562998</td>\n",
       "      <td>ALL OTHER MISCELLANEOUS WASTE MANAGEMENT SERVICES</td>\n",
       "      <td>FULL AND OPEN COMPETITION AFTER EXCLUSION OF S...</td>\n",
       "      <td>NEGOTIATED PROPOSAL/QUOTE</td>\n",
       "      <td>VA</td>\n",
       "    </tr>\n",
       "    <tr>\n",
       "      <th>4</th>\n",
       "      <td>VA24514C0099</td>\n",
       "      <td>2500212.0000</td>\n",
       "      <td>DEPARTMENT OF VETERANS AFFAIRS (VA)</td>\n",
       "      <td>51154354</td>\n",
       "      <td>ADVANT-EDGE SOLUTIONS OF MIDDLE ATLANTIC, INC.</td>\n",
       "      <td>J</td>\n",
       "      <td>FIRM FIXED PRICE</td>\n",
       "      <td>562211</td>\n",
       "      <td>HAZARDOUS WASTE TREATMENT AND DISPOSAL</td>\n",
       "      <td>FULL AND OPEN COMPETITION AFTER EXCLUSION OF S...</td>\n",
       "      <td>NEGOTIATED PROPOSAL/QUOTE</td>\n",
       "      <td>VA</td>\n",
       "    </tr>\n",
       "  </tbody>\n",
       "</table>\n",
       "</div>"
      ],
      "text/plain": [
       "        award_id  dollars_obligated                 awarding_agency_name  \\\n",
       "0  36C24819D0009             0.0000  DEPARTMENT OF VETERANS AFFAIRS (VA)   \n",
       "1  36C25019D0016             0.0000  DEPARTMENT OF VETERANS AFFAIRS (VA)   \n",
       "2   VA24414C0449         56760.0000  DEPARTMENT OF VETERANS AFFAIRS (VA)   \n",
       "3   VA24414C0450        291625.4700  DEPARTMENT OF VETERANS AFFAIRS (VA)   \n",
       "4   VA24514C0099       2500212.0000  DEPARTMENT OF VETERANS AFFAIRS (VA)   \n",
       "\n",
       "   recipient_duns                                  recipient_name  \\\n",
       "0       195823570                      AGILENT TECHNOLOGIES, INC.   \n",
       "1        51154354  ADVANT-EDGE SOLUTIONS OF MIDDLE ATLANTIC, INC.   \n",
       "2        51154354  ADVANT-EDGE SOLUTIONS OF MIDDLE ATLANTIC, INC.   \n",
       "3        51154354  ADVANT-EDGE SOLUTIONS OF MIDDLE ATLANTIC, INC.   \n",
       "4        51154354  ADVANT-EDGE SOLUTIONS OF MIDDLE ATLANTIC, INC.   \n",
       "\n",
       "  contract_pricing_code  contract_pricing  naics_code  \\\n",
       "0                     J  FIRM FIXED PRICE      334510   \n",
       "1                     J  FIRM FIXED PRICE      562211   \n",
       "2                     J  FIRM FIXED PRICE      562998   \n",
       "3                     J  FIRM FIXED PRICE      562998   \n",
       "4                     J  FIRM FIXED PRICE      562211   \n",
       "\n",
       "                                   naics_description  \\\n",
       "0  ELECTROMEDICAL AND ELECTROTHERAPEUTIC APPARATU...   \n",
       "1             HAZARDOUS WASTE TREATMENT AND DISPOSAL   \n",
       "2  ALL OTHER MISCELLANEOUS WASTE MANAGEMENT SERVICES   \n",
       "3  ALL OTHER MISCELLANEOUS WASTE MANAGEMENT SERVICES   \n",
       "4             HAZARDOUS WASTE TREATMENT AND DISPOSAL   \n",
       "\n",
       "                                     extent_competed  \\\n",
       "0                                       NOT COMPETED   \n",
       "1                                 COMPETED UNDER SAP   \n",
       "2  FULL AND OPEN COMPETITION AFTER EXCLUSION OF S...   \n",
       "3  FULL AND OPEN COMPETITION AFTER EXCLUSION OF S...   \n",
       "4  FULL AND OPEN COMPETITION AFTER EXCLUSION OF S...   \n",
       "\n",
       "     solicitation_procedures awarding_agency_abbr  \n",
       "0            ONLY ONE SOURCE                   VA  \n",
       "1     SIMPLIFIED ACQUISITION                   VA  \n",
       "2  NEGOTIATED PROPOSAL/QUOTE                   VA  \n",
       "3  NEGOTIATED PROPOSAL/QUOTE                   VA  \n",
       "4  NEGOTIATED PROPOSAL/QUOTE                   VA  "
      ]
     },
     "execution_count": 3,
     "metadata": {},
     "output_type": "execute_result"
    }
   ],
   "source": [
    "data = pd.read_csv(data_filepath)\n",
    "data.head()"
   ]
  },
  {
   "cell_type": "markdown",
   "metadata": {},
   "source": [
    "1) Identify the top 5 NAICS categories of products/services purchased by number of awards. **(20 points)**"
   ]
  },
  {
   "cell_type": "code",
   "execution_count": null,
   "metadata": {},
   "outputs": [],
   "source": []
  },
  {
   "cell_type": "markdown",
   "metadata": {},
   "source": [
    "2) For the top NAICS category identified in part 1), determine the number of contracts and the total dollars obligated for each awarding agency. **(20 points)**"
   ]
  },
  {
   "cell_type": "code",
   "execution_count": null,
   "metadata": {},
   "outputs": [],
   "source": []
  },
  {
   "cell_type": "markdown",
   "metadata": {},
   "source": [
    "3) For the top NAICS category identified in 1), determine the number of awarding agencies and the amount they spend with each recipient. **(20 points)**"
   ]
  },
  {
   "cell_type": "code",
   "execution_count": null,
   "metadata": {},
   "outputs": [],
   "source": []
  },
  {
   "cell_type": "markdown",
   "metadata": {},
   "source": [
    "4) For the top NAICS category identified in part 1), determine the dollars obligated for each contract pricing type. **(20 points)**"
   ]
  },
  {
   "cell_type": "code",
   "execution_count": null,
   "metadata": {},
   "outputs": [],
   "source": []
  },
  {
   "cell_type": "markdown",
   "metadata": {},
   "source": [
    "5) For the top NAICS category identified in part 1), determine the dollars obligated for each combination of (`extent_competed`, `solicitation_procedures`). **(20 points)**"
   ]
  },
  {
   "cell_type": "code",
   "execution_count": null,
   "metadata": {},
   "outputs": [],
   "source": []
  }
 ],
 "metadata": {
  "kernelspec": {
   "display_name": "Python 3 (ipykernel)",
   "language": "python",
   "name": "python3"
  },
  "language_info": {
   "codemirror_mode": {
    "name": "ipython",
    "version": 3
   },
   "file_extension": ".py",
   "mimetype": "text/x-python",
   "name": "python",
   "nbconvert_exporter": "python",
   "pygments_lexer": "ipython3",
   "version": "3.11.2"
  }
 },
 "nbformat": 4,
 "nbformat_minor": 2
}
