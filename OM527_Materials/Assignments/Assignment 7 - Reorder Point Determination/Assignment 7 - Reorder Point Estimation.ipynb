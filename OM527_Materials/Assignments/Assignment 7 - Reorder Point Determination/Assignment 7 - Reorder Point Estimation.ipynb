{
 "cells": [
  {
   "cell_type": "markdown",
   "metadata": {},
   "source": [
    "Traditional inventory management research provides the following formula for specifying reorder points when both demand and  the replenishment lead time is uncertain:\n",
    "\n",
    "$$ R = \\overline{d}(\\overline{L}) + Z\\sqrt{ \\sigma_{d}^{2}\\overline{L} + \\overline{d}^{2}\\sigma_{L}^{2}},$$\n",
    "\n",
    "where\n",
    "- $R$ is the reorder point,\n",
    "- $\\overline{d}$ is the mean daily demand,\n",
    "- $\\overline{L}$ is the mean lead time,\n",
    "- $\\sigma_{d}$ represents the standard deviation of daily demand, and\n",
    "- $\\sigma_{L}$ represents the standard deviation of the lead time.\n",
    "\n",
    "Modify the procedure we looked at in class for reorder point determination to include calculation of the reorder point using the formula provided above **(60 points)**. Compare the reorder points obtained using the formula to those obtained by the simulation. Consider the first 10 products, i.e., use a cutoff of 10. Use the modified code to answer the following questions:\n",
    "1. How do the two reorder point estimates compare in general, e.g., is one always higher than the other? **(10 points)**\n",
    "2. How do the two reorder point estimates compare as a function of $i$) the mean demand during the lead time ($\\overline{d}(\\overline{L}))$, $ii$) the standard deviation of daily demand ($\\sigma_{d}$), and $iii$) the standard deviation of the lead time ($\\sigma_{L}$)? **(30 points)**\n",
    "\n",
    "For the purposes of the assignment, answer the questions by considering only 10 products and assuming that you are interested in a 95% service level (i.e., a $Z$ value of 1.65). However, your code should be general enough to allow a user to specify different service levels and corresponding Z values."
   ]
  }
 ],
 "metadata": {
  "kernelspec": {
   "display_name": "Python 3",
   "language": "python",
   "name": "python3"
  },
  "language_info": {
   "codemirror_mode": {
    "name": "ipython",
    "version": 3
   },
   "file_extension": ".py",
   "mimetype": "text/x-python",
   "name": "python",
   "nbconvert_exporter": "python",
   "pygments_lexer": "ipython3",
   "version": "3.8.5"
  }
 },
 "nbformat": 4,
 "nbformat_minor": 2
}
