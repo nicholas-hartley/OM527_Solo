{
 "cells": [
  {
   "cell_type": "markdown",
   "metadata": {},
   "source": [
    "In this assignment you will model and solve several variants of a sourcing problem where a buyer is subject to both demand and supply uncertainty. The following code block imports some libraries that may be useful."
   ]
  },
  {
   "cell_type": "code",
   "execution_count": 1,
   "metadata": {},
   "outputs": [],
   "source": [
    "import pathlib\n",
    "\n",
    "import matplotlib.pyplot as plt\n",
    "import numpy as np\n",
    "import pandas as pd\n",
    "import pulp\n",
    "import seaborn as sns\n",
    "sns.set_style('whitegrid')"
   ]
  },
  {
   "cell_type": "markdown",
   "metadata": {},
   "source": [
    "The focus of this assignment is on modeling the supply uncertainty. Thus, I will simplfy the modeling of demand uncertainty. The following code block defines a fucntion that generate a demand sample for a specified number of scenarios."
   ]
  },
  {
   "cell_type": "code",
   "execution_count": 2,
   "metadata": {},
   "outputs": [],
   "source": [
    "def generate_demand_sample(scenarios):\n",
    "    \n",
    "    np.random.seed(0)\n",
    "    return np.random.poisson(1000, size = scenarios)"
   ]
  },
  {
   "cell_type": "markdown",
   "metadata": {},
   "source": [
    "The following code block demonstrates the use of the function."
   ]
  },
  {
   "cell_type": "code",
   "execution_count": 3,
   "metadata": {},
   "outputs": [
    {
     "data": {
      "image/png": "[encoded data removed]",
      "text/plain": [
       "<Figure size 576x288 with 1 Axes>"
      ]
     },
     "metadata": {},
     "output_type": "display_data"
    }
   ],
   "source": [
    "scenarios = 1000\n",
    "\n",
    "demand_sample = generate_demand_sample(scenarios)\n",
    "\n",
    "fig, ax = plt.subplots(1, 1, sharey = True, figsize = (8,4))\n",
    "ax.hist(demand_sample,\n",
    "        bins = 20,\n",
    "        edgecolor = 'k',\n",
    "        density = True)\n",
    "ax.set_title('Histogram for Demand')\n",
    "ax.set_xlabel('Demand Value')\n",
    "ax.set_ylabel('Relative Frequency')\n",
    "plt.show()"
   ]
  },
  {
   "cell_type": "markdown",
   "metadata": {},
   "source": [
    "The following code block reads in and prints the first five rows of the supplier delivery data. The data includes 1000 observations for the on-time delivery of a set of seven suppliers. You will model yield uncertainty as well, but I would like for you to simply assume that all suppliers are subject to a yield distribution that is uniformly distributed between $0.8$ and $1.0$ (more details shortly)."
   ]
  },
  {
   "cell_type": "code",
   "execution_count": 4,
   "metadata": {},
   "outputs": [
    {
     "data": {
      "text/html": [
       "<div>\n",
       "<style scoped>\n",
       "    .dataframe tbody tr th:only-of-type {\n",
       "        vertical-align: middle;\n",
       "    }\n",
       "\n",
       "    .dataframe tbody tr th {\n",
       "        vertical-align: top;\n",
       "    }\n",
       "\n",
       "    .dataframe thead th {\n",
       "        text-align: right;\n",
       "    }\n",
       "</style>\n",
       "<table border=\"1\" class=\"dataframe\">\n",
       "  <thead>\n",
       "    <tr style=\"text-align: right;\">\n",
       "      <th></th>\n",
       "      <th>Supplier_1</th>\n",
       "      <th>Supplier_2</th>\n",
       "      <th>Supplier_3</th>\n",
       "      <th>Supplier_4</th>\n",
       "      <th>Supplier_5</th>\n",
       "      <th>Supplier_6</th>\n",
       "      <th>Supplier_7</th>\n",
       "    </tr>\n",
       "  </thead>\n",
       "  <tbody>\n",
       "    <tr>\n",
       "      <th>0</th>\n",
       "      <td>1</td>\n",
       "      <td>1</td>\n",
       "      <td>1</td>\n",
       "      <td>1</td>\n",
       "      <td>1</td>\n",
       "      <td>1</td>\n",
       "      <td>1</td>\n",
       "    </tr>\n",
       "    <tr>\n",
       "      <th>1</th>\n",
       "      <td>1</td>\n",
       "      <td>1</td>\n",
       "      <td>1</td>\n",
       "      <td>1</td>\n",
       "      <td>1</td>\n",
       "      <td>0</td>\n",
       "      <td>1</td>\n",
       "    </tr>\n",
       "    <tr>\n",
       "      <th>2</th>\n",
       "      <td>1</td>\n",
       "      <td>1</td>\n",
       "      <td>1</td>\n",
       "      <td>1</td>\n",
       "      <td>1</td>\n",
       "      <td>1</td>\n",
       "      <td>1</td>\n",
       "    </tr>\n",
       "    <tr>\n",
       "      <th>3</th>\n",
       "      <td>1</td>\n",
       "      <td>1</td>\n",
       "      <td>1</td>\n",
       "      <td>1</td>\n",
       "      <td>1</td>\n",
       "      <td>1</td>\n",
       "      <td>1</td>\n",
       "    </tr>\n",
       "    <tr>\n",
       "      <th>4</th>\n",
       "      <td>1</td>\n",
       "      <td>1</td>\n",
       "      <td>1</td>\n",
       "      <td>1</td>\n",
       "      <td>1</td>\n",
       "      <td>1</td>\n",
       "      <td>1</td>\n",
       "    </tr>\n",
       "  </tbody>\n",
       "</table>\n",
       "</div>"
      ],
      "text/plain": [
       "   Supplier_1  Supplier_2  Supplier_3  Supplier_4  Supplier_5  Supplier_6  \\\n",
       "0           1           1           1           1           1           1   \n",
       "1           1           1           1           1           1           0   \n",
       "2           1           1           1           1           1           1   \n",
       "3           1           1           1           1           1           1   \n",
       "4           1           1           1           1           1           1   \n",
       "\n",
       "   Supplier_7  \n",
       "0           1  \n",
       "1           1  \n",
       "2           1  \n",
       "3           1  \n",
       "4           1  "
      ]
     },
     "execution_count": 4,
     "metadata": {},
     "output_type": "execute_result"
    }
   ],
   "source": [
    "data_path = pathlib.Path('data','data.csv')\n",
    "data = pd.read_csv(data_path)\n",
    "data.head()"
   ]
  },
  {
   "cell_type": "markdown",
   "metadata": {},
   "source": [
    "Assume that the unit costs for the seven suppliers is specified by the following `unit_cost` object, where the values correspond to `Supplier_1`, $\\ldots$, `Supplier_6`, `Supplier_7`. Assume that the sales_prices is 2.00."
   ]
  },
  {
   "cell_type": "code",
   "execution_count": 5,
   "metadata": {},
   "outputs": [],
   "source": [
    "unit_costs = np.array([0.7 , 0.83, 1.01, 0.93, 0.73, 0.86, 0.85])\n",
    "sales_price = 2"
   ]
  },
  {
   "cell_type": "markdown",
   "metadata": {},
   "source": [
    "Use the data set to:\n",
    "1. Define and solve an optimization model that maximizes the buying firms expected profit when only considering the on-time delivery rate for each supplier,\n",
    "2. Define and solve an optimization model that maximizes the buying firms expected profit when considering the on-time delivery rate and yield rate for each supplier, and \n",
    "3. Define and solve an optimization model that maximizes the buying firms expected profit when considering the on-time delivery rate and yield rate for each supplier under the assumption that the buying firm suspects that groups of the available suppliers are subject to correlated supply disruptions that affect the on-time delivery rate only. **In addition to solving the problem, you need to choose your grouping and justify your choice.**\n",
    "\n",
    "When modeling yield uncertainty, assume that all suppliers are subject to a yield distribution that is uniformly distributed between $0.8$ and $1.0$. Thus, you may simply use `np.random.uniform(low = 0.8, high = 1.0, size=**SPECIFY**)` to generate random yield values. Also, use 2000 scenarios for all stochastic modeling approaches.\n",
    "\n",
    "For each problem, clearly print out or state the optimal sourcing strategy, i.e., how much should be ordered from each supplier. For part 3, justify your decision for the supplier grouping that you use. Use markdown and code cells to communicate all major steps and assumptions made during your analysis.\n",
    "\n",
    "The total points will be distributed as follows:\n",
    "\n",
    "**Task 1 (30 pts)**:\n",
    "- Generating appropriate samples for the on-time delivery performance of each supplier (10 pts)\n",
    "- Defining an appropriate optimization model (10 pts)\n",
    "- Obtaining a reasonable solution (10 pts)\n",
    "\n",
    "**Task 2 (30 pts)**:\n",
    "- Generating appropriate samples for the on-time delivery performance of each supplier (10 pts)\n",
    "- Defining an appropriate optimization model (10 pts)\n",
    "- Obtaining a reasonable solution (10 pts)\n",
    "\n",
    "**Task 3 (40 pts)**:\n",
    "- Appropriate supplier grouping (10 pts)\n",
    "- Generating appropriate samples for the on-time delivery performance of each supplier (10 pts)\n",
    "- Defining an appropriate optimization model (10 pts)\n",
    "- Obtaining a reasonable solution (10 pts)"
   ]
  }
 ],
 "metadata": {
  "kernelspec": {
   "display_name": "Python 3",
   "language": "python",
   "name": "python3"
  },
  "language_info": {
   "codemirror_mode": {
    "name": "ipython",
    "version": 3
   },
   "file_extension": ".py",
   "mimetype": "text/x-python",
   "name": "python",
   "nbconvert_exporter": "python",
   "pygments_lexer": "ipython3",
   "version": "3.8.5"
  }
 },
 "nbformat": 4,
 "nbformat_minor": 2
}
