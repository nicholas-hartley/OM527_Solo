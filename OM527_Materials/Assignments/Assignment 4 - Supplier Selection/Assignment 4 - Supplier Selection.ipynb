{
 "cells": [
  {
   "cell_type": "markdown",
   "metadata": {},
   "source": [
    "For this assignment, you will replicate the supplier selection analysis we covered in class on a new dataset. Specifically, in this dataset you will be evaluating suppliers of refridgerated warehouse services.\n",
    "\n",
    "The following code block imports some necessary libraries."
   ]
  },
  {
   "cell_type": "code",
   "execution_count": 1,
   "metadata": {},
   "outputs": [],
   "source": [
    "import pathlib\n",
    "\n",
    "import numpy as np\n",
    "import pandas as pd\n",
    "\n",
    "import OM527_functions as omf"
   ]
  },
  {
   "cell_type": "markdown",
   "metadata": {},
   "source": [
    "The following code block defines the `custom_grouper` function that we used in the notebook covering the concept of spend analysis."
   ]
  },
  {
   "cell_type": "code",
   "execution_count": 2,
   "metadata": {},
   "outputs": [],
   "source": [
    "def custom_grouper(df, agg_dict, groupby_columns):\n",
    "    '''\n",
    "    This function groups the provided DataFrame, df, by the columns\n",
    "    specified in the groupby_columns argument. The aggregations specified\n",
    "    in the agg_dict dictionary are applied. Also, each numeric column in the \n",
    "    aggregated DataFrame is used to create a proportion column. The aggregated data\n",
    "    is returned as a DataFrame sorted by the keys of the agg_dict\n",
    "    dictionary, in the order they are specified, i.e., first key\n",
    "    has a higher sort priority than the second, etc...\n",
    "    '''\n",
    "    \n",
    "    grouped_df = df.groupby(groupby_columns).agg(agg_dict)\n",
    "    \n",
    "    grouped_df.columns = ['_'.join(col).strip() for col in grouped_df.columns.values]\n",
    "    \n",
    "    numeric_columns = grouped_df.select_dtypes(include='number').columns.tolist()\n",
    "\n",
    "    for column in numeric_columns:\n",
    "        grouped_df[f'{column}_proportion'] = (grouped_df[column]/grouped_df[column].sum())\n",
    "        \n",
    "    grouped_df = grouped_df.sort_values(numeric_columns)\n",
    "\n",
    "    return grouped_df"
   ]
  },
  {
   "cell_type": "markdown",
   "metadata": {},
   "source": [
    "1) Read in the supplier data stored in the file `rw_supplier_data.csv` and print the first five rows. **(5 points)**"
   ]
  },
  {
   "cell_type": "code",
   "execution_count": null,
   "metadata": {},
   "outputs": [],
   "source": []
  },
  {
   "cell_type": "markdown",
   "metadata": {},
   "source": [
    "2) Limit the data so that it only includes companies with an NAICS decription of \"Refrigerated Warehousing & Storage\". **(5 points)**"
   ]
  },
  {
   "cell_type": "code",
   "execution_count": null,
   "metadata": {},
   "outputs": [],
   "source": []
  },
  {
   "cell_type": "code",
   "execution_count": null,
   "metadata": {},
   "outputs": [],
   "source": []
  },
  {
   "cell_type": "markdown",
   "metadata": {},
   "source": [
    "3) Convert the data in the `Location Sales Volumne Actual` column to a numeric format. **(10 points)**"
   ]
  },
  {
   "cell_type": "code",
   "execution_count": null,
   "metadata": {},
   "outputs": [],
   "source": []
  },
  {
   "cell_type": "markdown",
   "metadata": {},
   "source": [
    "4) Use the `Credit Score Alpha` column to assign values to a new column named `Credit Score Num` based on the following mapping:\n",
    "\n",
    "- A+ = 1\n",
    "- A = 0.8\n",
    "- B+ = 0.6\n",
    "- B = 0.4\n",
    "- C+ = 0.2\n",
    "\n",
    "**(5 points)**"
   ]
  },
  {
   "cell_type": "code",
   "execution_count": null,
   "metadata": {},
   "outputs": [],
   "source": []
  },
  {
   "cell_type": "markdown",
   "metadata": {},
   "source": [
    "5) Create a column called `Location Score` that equals 1 if the company is in Alabama and 0.5 if the company is located elsewhere. **(10 points)**"
   ]
  },
  {
   "cell_type": "code",
   "execution_count": null,
   "metadata": {},
   "outputs": [],
   "source": []
  },
  {
   "cell_type": "markdown",
   "metadata": {},
   "source": [
    "6) Recall that some companies operated multiple locations in the data we used to demonstrate supplier selection methods. We only want one observation for each company in our final data. Ensure that the current data only includes one entry for each company. If a company has multiple entries, reconstruct the data so that we **average the values in the `Credit Score Num` and `Location Score` columns for companies with multiple locations. Also, sum the values in the `Location Sales Volume Actual` column for companies with multiple locations.** **(10 points)**"
   ]
  },
  {
   "cell_type": "code",
   "execution_count": null,
   "metadata": {},
   "outputs": [],
   "source": []
  },
  {
   "cell_type": "markdown",
   "metadata": {},
   "source": [
    "7) Normalize the data in the `Location Sales Volume Actual` so that all values are between 0 and 1 with the lowest value in the column being assigned a value of zero and the highest value in the column being assigned a value of one. **(5 points)**"
   ]
  },
  {
   "cell_type": "code",
   "execution_count": null,
   "metadata": {},
   "outputs": [],
   "source": []
  },
  {
   "cell_type": "markdown",
   "metadata": {},
   "source": [
    "8) Assume that the following weights are given for the `Credit Score Num`, `Location Sales Volume Actual`, and `Location Score` values:\n",
    "- `Credit Score Num` = 9\n",
    "- `Location Score` = 8\n",
    "- `Location Sales Volume Actual` = 5\n",
    "\n",
    "Normalize these weights and use them to determine weighted sum and weighted product scores for all of the companies. What are the top 3 companies by each scoring method? **(30 points - 10 for weight normalization, 10 for correct application of weighted sum, and 10 for correct application of weighted product)**"
   ]
  },
  {
   "cell_type": "code",
   "execution_count": null,
   "metadata": {},
   "outputs": [],
   "source": []
  },
  {
   "cell_type": "code",
   "execution_count": null,
   "metadata": {},
   "outputs": [],
   "source": []
  },
  {
   "cell_type": "code",
   "execution_count": null,
   "metadata": {},
   "outputs": [],
   "source": []
  },
  {
   "cell_type": "markdown",
   "metadata": {},
   "source": [
    "9) Assume that the following preferences are given:\n",
    "- a high `Credit Score Num` is strongly more preferable than a high `Location Score`,\n",
    "- a high `Credit Score Num` is extremely more preferable than a high `Location Sales Volume Actual`, and\n",
    "- a high `Location Score` is moderately more preferable than a high `Location Sales Volume Actual`.\n",
    "\n",
    "Use these preferences to derive new weights and use these to determine updated weighted sum and weighted product scores for all companies. Again, specify the top 3 companies according to each scoring method. **(20 points)**"
   ]
  },
  {
   "cell_type": "code",
   "execution_count": null,
   "metadata": {
    "scrolled": true
   },
   "outputs": [],
   "source": []
  },
  {
   "cell_type": "code",
   "execution_count": null,
   "metadata": {},
   "outputs": [],
   "source": []
  },
  {
   "cell_type": "code",
   "execution_count": null,
   "metadata": {},
   "outputs": [],
   "source": []
  }
 ],
 "metadata": {
  "kernelspec": {
   "display_name": "Python 3",
   "language": "python",
   "name": "python3"
  },
  "language_info": {
   "codemirror_mode": {
    "name": "ipython",
    "version": 3
   },
   "file_extension": ".py",
   "mimetype": "text/x-python",
   "name": "python",
   "nbconvert_exporter": "python",
   "pygments_lexer": "ipython3",
   "version": "3.8.5"
  }
 },
 "nbformat": 4,
 "nbformat_minor": 2
}
