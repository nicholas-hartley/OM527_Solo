{
 "cells": [
  {
   "cell_type": "markdown",
   "metadata": {},
   "source": [
    "In this assignment, you will apply the ensemble ranking method to the the supplier selection scenario considered in assignment 4. The following code block import libraries you will need."
   ]
  },
  {
   "cell_type": "code",
   "execution_count": 1,
   "metadata": {},
   "outputs": [],
   "source": [
    "import pathlib\n",
    "\n",
    "import numpy as np\n",
    "import pandas as pd\n",
    "\n",
    "import OM527_functions as omf"
   ]
  },
  {
   "cell_type": "markdown",
   "metadata": {},
   "source": [
    "The following code block defines the `custom_grouper` function we used when considering spend analysis."
   ]
  },
  {
   "cell_type": "code",
   "execution_count": 2,
   "metadata": {},
   "outputs": [],
   "source": [
    "def custom_grouper(df, agg_dict, groupby_columns):\n",
    "    '''\n",
    "    This function groups the provided DataFrame, df, by the columns\n",
    "    specified in the groupby_columns argument. The aggregations specified\n",
    "    in the agg_dict dictionary are applied. Also, each numeric column in the \n",
    "    aggregated DataFrame is used to create a proportion column. The aggregated data\n",
    "    is returned as a DataFrame sorted by the keys of the agg_dict\n",
    "    dictionary, in the order they are specified, i.e., first key\n",
    "    has a higher sort priority than the second, etc...\n",
    "    '''\n",
    "    \n",
    "    grouped_df = df.groupby(groupby_columns).agg(agg_dict)\n",
    "    \n",
    "    grouped_df.columns = ['_'.join(col).strip() for col in grouped_df.columns.values]\n",
    "    \n",
    "    numeric_columns = grouped_df.select_dtypes(include='number').columns.tolist()\n",
    "\n",
    "    for column in numeric_columns:\n",
    "        grouped_df[f'{column}_proportion'] = (grouped_df[column]/grouped_df[column].sum())\n",
    "        \n",
    "    grouped_df = grouped_df.sort_values(numeric_columns)\n",
    "\n",
    "    return grouped_df"
   ]
  },
  {
   "cell_type": "markdown",
   "metadata": {},
   "source": [
    "The following code block performs the data preparation steps described in assignment 3."
   ]
  },
  {
   "cell_type": "code",
   "execution_count": 3,
   "metadata": {},
   "outputs": [],
   "source": [
    "data_path = pathlib.Path('data', 'rw_supplier_data.csv')\n",
    "rw_data = pd.read_csv(data_path)\n",
    "\n",
    "relevant_naics = [493120]\n",
    "rw_data = rw_data[rw_data['Primary NAICS'].isin(relevant_naics)]\n",
    "\n",
    "rw_data['Location Sales Volume Actual'] = rw_data['Location Sales Volume Actual'].str.replace('$', '')\n",
    "rw_data['Location Sales Volume Actual'] = rw_data['Location Sales Volume Actual'].str.replace(',', '')\n",
    "rw_data['Location Sales Volume Actual'] = pd.to_numeric(rw_data['Location Sales Volume Actual'])\n",
    "\n",
    "\n",
    "\n",
    "# Define and normalize weights\n",
    "weights = {'Credit Score Num': 9, \n",
    "           'Location Score': 7,\n",
    "           'Location Sales Volume Actual': 4}\n",
    "\n",
    "credit_score_mapper = {\n",
    "    'A+': 1,\n",
    "    'A': 0.8,\n",
    "    'B+': 0.6,\n",
    "    'B': 0.4,\n",
    "    'C+': 0.2,\n",
    "}\n",
    "rw_data['Credit Score Num'] = rw_data['Credit Score Alpha'].map(credit_score_mapper)\n",
    "\n",
    "unique_states = rw_data['State'].unique().tolist()\n",
    "state_mapper = {}\n",
    "for state in unique_states:\n",
    "    if (state == 'AL'):\n",
    "        state_mapper[state] = 1\n",
    "    else:\n",
    "        state_mapper[state] = 0.5\n",
    "rw_data['Location Score'] = rw_data['State'].map(state_mapper)\n",
    "\n",
    "groupby_columns = ['Company Name']\n",
    "agg_dict = {\n",
    "    'Location Sales Volume Actual': ['sum'],\n",
    "    'Credit Score Num': ['mean'],\n",
    "    'Location Score': ['mean'],\n",
    "}\n",
    "rw_data = rw_data.groupby(groupby_columns).agg(agg_dict)\n",
    "rw_data.columns = agg_dict.keys()\n",
    "rw_data = rw_data.reset_index()\n",
    "\n",
    "sales_volume_array = rw_data['Location Sales Volume Actual'].values\n",
    "rw_data['Location Sales Volume Actual'] = omf.mcdm.normalize_array(sales_volume_array)\n",
    "\n",
    "weights = {'Credit Score Num': 9, \n",
    "           'Location Score': 7,\n",
    "           'Location Sales Volume Actual': 4}\n",
    "\n",
    "weights = omf.mcdm.normalize_weights_dictionary(weights)"
   ]
  },
  {
   "cell_type": "markdown",
   "metadata": {},
   "source": [
    "Use the `robust_ranking` function available in the `mcdm_functions` module to identify suppliers that occur in the top 5 by each ranking method, e.g., weighted sum and weighted product, when considering 100 perturbations of the weights that are within 20% of the weights specified in the `weights` object. **(100 points)**"
   ]
  },
  {
   "cell_type": "code",
   "execution_count": null,
   "metadata": {},
   "outputs": [],
   "source": []
  }
 ],
 "metadata": {
  "kernelspec": {
   "display_name": "Python 3",
   "language": "python",
   "name": "python3"
  },
  "language_info": {
   "codemirror_mode": {
    "name": "ipython",
    "version": 3
   },
   "file_extension": ".py",
   "mimetype": "text/x-python",
   "name": "python",
   "nbconvert_exporter": "python",
   "pygments_lexer": "ipython3",
   "version": "3.8.5"
  }
 },
 "nbformat": 4,
 "nbformat_minor": 2
}
