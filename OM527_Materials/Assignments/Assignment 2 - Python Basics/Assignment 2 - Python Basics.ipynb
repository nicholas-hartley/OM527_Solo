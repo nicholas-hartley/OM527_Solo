{
 "cells": [
  {
   "cell_type": "markdown",
   "metadata": {},
   "source": [
    "1) In the following code block, calculate the value of $\\displaystyle \\frac{(3+5)^{2}}{3^{3}}$. **(10 points)**"
   ]
  },
  {
   "cell_type": "code",
   "execution_count": null,
   "metadata": {},
   "outputs": [],
   "source": []
  },
  {
   "cell_type": "markdown",
   "metadata": {},
   "source": [
    "2) In mathematics, the Fibonacci numbers, commonly denoted $F_{n}$ form a sequence, called the Fibonacci sequence, such that each number is the sum of the two preceding ones, starting from 0 and 1. That is,\n",
    "\n",
    "$$ F_{0}=0, F_{1}=1,\\mbox{ and } F_{n}=F_{n-1}+F_{n-2},\\mbox{ for }n > 1.$$\n",
    "\n",
    "In the following code block, use a for loop to construct a list that includes $F_{0}, \\ldots, F_{10}$. Use the print function to show the final list. **(20 points)**"
   ]
  },
  {
   "cell_type": "code",
   "execution_count": null,
   "metadata": {},
   "outputs": [],
   "source": []
  },
  {
   "cell_type": "markdown",
   "metadata": {},
   "source": [
    "3) The following code block defines a list object named my_numbers that contains 20 floating point vlaues. Add print statements that return:\n",
    "\n",
    "1. the first four elements, i.e., elements 0-3,\n",
    "2. the last six elements, i.e., elements 14-19, and\n",
    "3. all elements starting at 0 and incrementing in steps of 5.\n",
    "\n",
    "**(10 points)**"
   ]
  },
  {
   "cell_type": "code",
   "execution_count": null,
   "metadata": {},
   "outputs": [],
   "source": [
    "my_numbers = [5.84,  4.11,  1.96,  1.73, 1.44, -3.50, -9.08, \n",
    "              -9.46, 1.18,  1.59,  5.11,  9.96, 5.82,  1.56,  \n",
    "              5.11, -1.83, -1.63,  3.52,  2.36, -8.64]"
   ]
  },
  {
   "cell_type": "code",
   "execution_count": null,
   "metadata": {},
   "outputs": [],
   "source": []
  },
  {
   "cell_type": "markdown",
   "metadata": {},
   "source": [
    "4) The following code block defines a nested dictionary object named my_dict that contains the age and height of three individuals (Alice, Bob, and Eve). Write a for loop that prints the age and height for each individual using the format \"**NAME** is **X** years old and **Y** inches tall.\" **(20 points)**"
   ]
  },
  {
   "cell_type": "code",
   "execution_count": null,
   "metadata": {},
   "outputs": [],
   "source": [
    "my_dict = {'Alice':{'Age': 32, 'Height (in)': 64},\n",
    "           'Bob': {'Age': 40, 'Height (in)': 70},\n",
    "           'Eve': {'Age': 20, 'Height (in)': 68}}"
   ]
  },
  {
   "cell_type": "markdown",
   "metadata": {},
   "source": [
    "5) In the following code block, use a while loop to print the positive integers ($i.e., 1, 2, 3, \\ldots$) $n$ that satisfy the inequality $2^{n} - n^{2} < 100$. Specifically, the statement \"2^**n** - **n**^2 = value < 100\" should be printed for each value that satisfies the inequality, where $n$ is the current integer being considered and value denotes the value of the expression $2^{n} - n^{2}$ evaluated with the current integer $n$. **(20 points)**"
   ]
  },
  {
   "cell_type": "code",
   "execution_count": null,
   "metadata": {},
   "outputs": [],
   "source": []
  },
  {
   "cell_type": "markdown",
   "metadata": {},
   "source": [
    "6) The following code block contains a for loop that iterates over a list named `products`. The list is supposed to print the index value for each product in the list, starting at 1, along with the product name. However, the syntax is not correct. Correct the syntax so that the loop performs as expected. **(20 points)**"
   ]
  },
  {
   "cell_type": "code",
   "execution_count": null,
   "metadata": {},
   "outputs": [],
   "source": [
    "products = ['Product A'; 'Product Y'; 'Product F'; 'Product S']\n",
    "for product_index, product in enumerate(products, 2):\n",
    "    print('{product_index}: {product}')"
   ]
  },
  {
   "cell_type": "code",
   "execution_count": null,
   "metadata": {},
   "outputs": [],
   "source": []
  }
 ],
 "metadata": {
  "kernelspec": {
   "display_name": "Python 3",
   "language": "python",
   "name": "python3"
  },
  "language_info": {
   "codemirror_mode": {
    "name": "ipython",
    "version": 3
   },
   "file_extension": ".py",
   "mimetype": "text/x-python",
   "name": "python",
   "nbconvert_exporter": "python",
   "pygments_lexer": "ipython3",
   "version": "3.8.5"
  }
 },
 "nbformat": 4,
 "nbformat_minor": 4
}
